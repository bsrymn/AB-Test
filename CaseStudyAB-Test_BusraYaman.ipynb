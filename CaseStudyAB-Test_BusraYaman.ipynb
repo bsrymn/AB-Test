{
 "cells": [
  {
   "cell_type": "markdown",
   "metadata": {},
   "source": [
    "A big social platform recently introduced a new bidding type, “average bidding”, as an alternative to its exisiting bidding\n",
    "type, called “maximum bidding”. One of our clients has decided to test this new feature\n",
    "and wants to conduct an A/B test to understand if average bidding brings more conversions than maximum\n",
    "bidding.\n",
    "\n",
    "In this A/B test, our clietn randomly splits its audience into two equally sized groups, e.g. the test\n",
    "and the control group. An existing ad campaign with “maximum bidding” is served to “control group” and\n",
    "new campaign with “average bidding” is served to the “test group”.\n",
    "The A/B test has run for 1 month and our client now expects you to analyze and present the results\n",
    "of this A/B test.\n",
    "\n",
    "You should answer the following questions in your presentation:\n",
    "1. How would you define the hypothesis of this A/B test?\n",
    "2. Can we conclude statistically significant results?\n",
    "3. Which statistical test did you use, and why?\n",
    "4. Based on your answer to Question 2, what would be your recommendation to client?"
   ]
  },
  {
   "cell_type": "markdown",
   "metadata": {},
   "source": [
    "## DATA UNDERSTANDING"
   ]
  },
  {
   "cell_type": "code",
   "execution_count": 2,
   "metadata": {},
   "outputs": [],
   "source": [
    "import numpy as np\n",
    "import pandas as pd \n",
    "import matplotlib.pyplot as plt\n",
    "import seaborn as sns\n",
    "from warnings import filterwarnings\n",
    "filterwarnings('ignore')"
   ]
  },
  {
   "cell_type": "code",
   "execution_count": 3,
   "metadata": {},
   "outputs": [
    {
     "data": {
      "text/html": [
       "<div>\n",
       "<style scoped>\n",
       "    .dataframe tbody tr th:only-of-type {\n",
       "        vertical-align: middle;\n",
       "    }\n",
       "\n",
       "    .dataframe tbody tr th {\n",
       "        vertical-align: top;\n",
       "    }\n",
       "\n",
       "    .dataframe thead th {\n",
       "        text-align: right;\n",
       "    }\n",
       "</style>\n",
       "<table border=\"1\" class=\"dataframe\">\n",
       "  <thead>\n",
       "    <tr style=\"text-align: right;\">\n",
       "      <th></th>\n",
       "      <th>Campaign Name</th>\n",
       "      <th>Date</th>\n",
       "      <th>Spend [USD]</th>\n",
       "      <th># of Impressions</th>\n",
       "      <th>Reach</th>\n",
       "      <th># of Website Clicks</th>\n",
       "      <th># of Searches</th>\n",
       "      <th># of View Content</th>\n",
       "      <th># of Add to Cart</th>\n",
       "      <th># of Purchase</th>\n",
       "    </tr>\n",
       "  </thead>\n",
       "  <tbody>\n",
       "    <tr>\n",
       "      <th>0</th>\n",
       "      <td>Control Campaign</td>\n",
       "      <td>2017.01.01</td>\n",
       "      <td>2436.124529</td>\n",
       "      <td>90572.0</td>\n",
       "      <td>75440.0</td>\n",
       "      <td>4150.0</td>\n",
       "      <td>1657.0</td>\n",
       "      <td>1541.0</td>\n",
       "      <td>566.0</td>\n",
       "      <td>383.0</td>\n",
       "    </tr>\n",
       "    <tr>\n",
       "      <th>1</th>\n",
       "      <td>Control Campaign</td>\n",
       "      <td>2017.01.02</td>\n",
       "      <td>2621.043006</td>\n",
       "      <td>129612.0</td>\n",
       "      <td>95667.0</td>\n",
       "      <td>6387.0</td>\n",
       "      <td>2265.0</td>\n",
       "      <td>1563.0</td>\n",
       "      <td>1577.0</td>\n",
       "      <td>644.0</td>\n",
       "    </tr>\n",
       "    <tr>\n",
       "      <th>2</th>\n",
       "      <td>Control Campaign</td>\n",
       "      <td>2017.01.03</td>\n",
       "      <td>2427.021083</td>\n",
       "      <td>132803.0</td>\n",
       "      <td>121762.0</td>\n",
       "      <td>6887.0</td>\n",
       "      <td>3100.0</td>\n",
       "      <td>2048.0</td>\n",
       "      <td>1381.0</td>\n",
       "      <td>639.0</td>\n",
       "    </tr>\n",
       "    <tr>\n",
       "      <th>3</th>\n",
       "      <td>Control Campaign</td>\n",
       "      <td>2017.01.04</td>\n",
       "      <td>2565.414978</td>\n",
       "      <td>120570.0</td>\n",
       "      <td>104011.0</td>\n",
       "      <td>6478.0</td>\n",
       "      <td>2579.0</td>\n",
       "      <td>2083.0</td>\n",
       "      <td>1650.0</td>\n",
       "      <td>649.0</td>\n",
       "    </tr>\n",
       "    <tr>\n",
       "      <th>4</th>\n",
       "      <td>Control Campaign</td>\n",
       "      <td>2017.01.05</td>\n",
       "      <td>2648.683326</td>\n",
       "      <td>95822.0</td>\n",
       "      <td>69059.0</td>\n",
       "      <td>4532.0</td>\n",
       "      <td>1823.0</td>\n",
       "      <td>1220.0</td>\n",
       "      <td>940.0</td>\n",
       "      <td>455.0</td>\n",
       "    </tr>\n",
       "  </tbody>\n",
       "</table>\n",
       "</div>"
      ],
      "text/plain": [
       "      Campaign Name        Date  Spend [USD]  # of Impressions     Reach  \\\n",
       "0  Control Campaign  2017.01.01  2436.124529           90572.0   75440.0   \n",
       "1  Control Campaign  2017.01.02  2621.043006          129612.0   95667.0   \n",
       "2  Control Campaign  2017.01.03  2427.021083          132803.0  121762.0   \n",
       "3  Control Campaign  2017.01.04  2565.414978          120570.0  104011.0   \n",
       "4  Control Campaign  2017.01.05  2648.683326           95822.0   69059.0   \n",
       "\n",
       "   # of Website Clicks  # of Searches  # of View Content  # of Add to Cart  \\\n",
       "0               4150.0         1657.0             1541.0             566.0   \n",
       "1               6387.0         2265.0             1563.0            1577.0   \n",
       "2               6887.0         3100.0             2048.0            1381.0   \n",
       "3               6478.0         2579.0             2083.0            1650.0   \n",
       "4               4532.0         1823.0             1220.0             940.0   \n",
       "\n",
       "   # of Purchase  \n",
       "0          383.0  \n",
       "1          644.0  \n",
       "2          639.0  \n",
       "3          649.0  \n",
       "4          455.0  "
      ]
     },
     "execution_count": 3,
     "metadata": {},
     "output_type": "execute_result"
    }
   ],
   "source": [
    "control = pd.read_excel(\"Data_Science_Case_Study.xlsx\", sheet_name=\"Control Group\")\n",
    "test = pd.read_excel(\"Data_Science_Case_Study.xlsx\", sheet_name=\"Test Group\")\n",
    "control.head()"
   ]
  },
  {
   "cell_type": "code",
   "execution_count": 4,
   "metadata": {},
   "outputs": [
    {
     "data": {
      "text/html": [
       "<div>\n",
       "<style scoped>\n",
       "    .dataframe tbody tr th:only-of-type {\n",
       "        vertical-align: middle;\n",
       "    }\n",
       "\n",
       "    .dataframe tbody tr th {\n",
       "        vertical-align: top;\n",
       "    }\n",
       "\n",
       "    .dataframe thead th {\n",
       "        text-align: right;\n",
       "    }\n",
       "</style>\n",
       "<table border=\"1\" class=\"dataframe\">\n",
       "  <thead>\n",
       "    <tr style=\"text-align: right;\">\n",
       "      <th></th>\n",
       "      <th>count</th>\n",
       "      <th>mean</th>\n",
       "      <th>std</th>\n",
       "      <th>min</th>\n",
       "      <th>10%</th>\n",
       "      <th>25%</th>\n",
       "      <th>50%</th>\n",
       "      <th>75%</th>\n",
       "      <th>90%</th>\n",
       "      <th>95%</th>\n",
       "      <th>99%</th>\n",
       "      <th>max</th>\n",
       "    </tr>\n",
       "  </thead>\n",
       "  <tbody>\n",
       "    <tr>\n",
       "      <th>Spend [USD]</th>\n",
       "      <td>30.0</td>\n",
       "      <td>2481.79</td>\n",
       "      <td>270.35</td>\n",
       "      <td>1723.72</td>\n",
       "      <td>2141.08</td>\n",
       "      <td>2321.53</td>\n",
       "      <td>2499.63</td>\n",
       "      <td>2648.65</td>\n",
       "      <td>2739.79</td>\n",
       "      <td>2811.64</td>\n",
       "      <td>3033.33</td>\n",
       "      <td>3105.84</td>\n",
       "    </tr>\n",
       "    <tr>\n",
       "      <th># of Impressions</th>\n",
       "      <td>29.0</td>\n",
       "      <td>114608.83</td>\n",
       "      <td>18122.02</td>\n",
       "      <td>68766.00</td>\n",
       "      <td>94772.00</td>\n",
       "      <td>100769.00</td>\n",
       "      <td>118268.00</td>\n",
       "      <td>125097.00</td>\n",
       "      <td>135112.00</td>\n",
       "      <td>141411.60</td>\n",
       "      <td>146171.12</td>\n",
       "      <td>146702.00</td>\n",
       "    </tr>\n",
       "    <tr>\n",
       "      <th>Reach</th>\n",
       "      <td>29.0</td>\n",
       "      <td>87628.48</td>\n",
       "      <td>15958.83</td>\n",
       "      <td>49422.00</td>\n",
       "      <td>70760.60</td>\n",
       "      <td>75440.00</td>\n",
       "      <td>86442.00</td>\n",
       "      <td>97334.00</td>\n",
       "      <td>107183.00</td>\n",
       "      <td>110093.80</td>\n",
       "      <td>118620.12</td>\n",
       "      <td>121762.00</td>\n",
       "    </tr>\n",
       "    <tr>\n",
       "      <th># of Website Clicks</th>\n",
       "      <td>29.0</td>\n",
       "      <td>5150.90</td>\n",
       "      <td>1432.39</td>\n",
       "      <td>2244.00</td>\n",
       "      <td>3520.00</td>\n",
       "      <td>4247.00</td>\n",
       "      <td>4975.00</td>\n",
       "      <td>6387.00</td>\n",
       "      <td>6728.60</td>\n",
       "      <td>7342.40</td>\n",
       "      <td>8000.96</td>\n",
       "      <td>8139.00</td>\n",
       "    </tr>\n",
       "    <tr>\n",
       "      <th># of Searches</th>\n",
       "      <td>29.0</td>\n",
       "      <td>2016.76</td>\n",
       "      <td>621.06</td>\n",
       "      <td>931.00</td>\n",
       "      <td>1213.40</td>\n",
       "      <td>1657.00</td>\n",
       "      <td>1969.00</td>\n",
       "      <td>2282.00</td>\n",
       "      <td>2969.60</td>\n",
       "      <td>3071.20</td>\n",
       "      <td>3216.64</td>\n",
       "      <td>3262.00</td>\n",
       "    </tr>\n",
       "    <tr>\n",
       "      <th># of View Content</th>\n",
       "      <td>29.0</td>\n",
       "      <td>1546.31</td>\n",
       "      <td>466.07</td>\n",
       "      <td>500.00</td>\n",
       "      <td>975.80</td>\n",
       "      <td>1220.00</td>\n",
       "      <td>1541.00</td>\n",
       "      <td>1898.00</td>\n",
       "      <td>2057.40</td>\n",
       "      <td>2153.20</td>\n",
       "      <td>2458.48</td>\n",
       "      <td>2559.00</td>\n",
       "    </tr>\n",
       "    <tr>\n",
       "      <th># of Add to Cart</th>\n",
       "      <td>29.0</td>\n",
       "      <td>1061.86</td>\n",
       "      <td>429.35</td>\n",
       "      <td>303.00</td>\n",
       "      <td>554.40</td>\n",
       "      <td>715.00</td>\n",
       "      <td>1013.00</td>\n",
       "      <td>1455.00</td>\n",
       "      <td>1587.60</td>\n",
       "      <td>1640.40</td>\n",
       "      <td>1872.48</td>\n",
       "      <td>1959.00</td>\n",
       "    </tr>\n",
       "    <tr>\n",
       "      <th># of Purchase</th>\n",
       "      <td>29.0</td>\n",
       "      <td>507.38</td>\n",
       "      <td>146.12</td>\n",
       "      <td>217.00</td>\n",
       "      <td>340.20</td>\n",
       "      <td>400.00</td>\n",
       "      <td>484.00</td>\n",
       "      <td>605.00</td>\n",
       "      <td>673.80</td>\n",
       "      <td>727.20</td>\n",
       "      <td>780.80</td>\n",
       "      <td>799.00</td>\n",
       "    </tr>\n",
       "  </tbody>\n",
       "</table>\n",
       "</div>"
      ],
      "text/plain": [
       "                     count       mean       std       min       10%  \\\n",
       "Spend [USD]           30.0    2481.79    270.35   1723.72   2141.08   \n",
       "# of Impressions      29.0  114608.83  18122.02  68766.00  94772.00   \n",
       "Reach                 29.0   87628.48  15958.83  49422.00  70760.60   \n",
       "# of Website Clicks   29.0    5150.90   1432.39   2244.00   3520.00   \n",
       "# of Searches         29.0    2016.76    621.06    931.00   1213.40   \n",
       "# of View Content     29.0    1546.31    466.07    500.00    975.80   \n",
       "# of Add to Cart      29.0    1061.86    429.35    303.00    554.40   \n",
       "# of Purchase         29.0     507.38    146.12    217.00    340.20   \n",
       "\n",
       "                           25%        50%        75%        90%        95%  \\\n",
       "Spend [USD]            2321.53    2499.63    2648.65    2739.79    2811.64   \n",
       "# of Impressions     100769.00  118268.00  125097.00  135112.00  141411.60   \n",
       "Reach                 75440.00   86442.00   97334.00  107183.00  110093.80   \n",
       "# of Website Clicks    4247.00    4975.00    6387.00    6728.60    7342.40   \n",
       "# of Searches          1657.00    1969.00    2282.00    2969.60    3071.20   \n",
       "# of View Content      1220.00    1541.00    1898.00    2057.40    2153.20   \n",
       "# of Add to Cart        715.00    1013.00    1455.00    1587.60    1640.40   \n",
       "# of Purchase           400.00     484.00     605.00     673.80     727.20   \n",
       "\n",
       "                           99%        max  \n",
       "Spend [USD]            3033.33    3105.84  \n",
       "# of Impressions     146171.12  146702.00  \n",
       "Reach                118620.12  121762.00  \n",
       "# of Website Clicks    8000.96    8139.00  \n",
       "# of Searches          3216.64    3262.00  \n",
       "# of View Content      2458.48    2559.00  \n",
       "# of Add to Cart       1872.48    1959.00  \n",
       "# of Purchase           780.80     799.00  "
      ]
     },
     "execution_count": 4,
     "metadata": {},
     "output_type": "execute_result"
    }
   ],
   "source": [
    "control.describe([0.10,0.25,0.50,0.75,0.90,0.95,0.99]).round(2).T"
   ]
  },
  {
   "cell_type": "code",
   "execution_count": 5,
   "metadata": {},
   "outputs": [
    {
     "data": {
      "text/html": [
       "<div>\n",
       "<style scoped>\n",
       "    .dataframe tbody tr th:only-of-type {\n",
       "        vertical-align: middle;\n",
       "    }\n",
       "\n",
       "    .dataframe tbody tr th {\n",
       "        vertical-align: top;\n",
       "    }\n",
       "\n",
       "    .dataframe thead th {\n",
       "        text-align: right;\n",
       "    }\n",
       "</style>\n",
       "<table border=\"1\" class=\"dataframe\">\n",
       "  <thead>\n",
       "    <tr style=\"text-align: right;\">\n",
       "      <th></th>\n",
       "      <th>Spend [USD]</th>\n",
       "      <th># of Impressions</th>\n",
       "      <th>Reach</th>\n",
       "      <th># of Website Clicks</th>\n",
       "      <th># of Searches</th>\n",
       "      <th># of View Content</th>\n",
       "      <th># of Add to Cart</th>\n",
       "      <th># of Purchase</th>\n",
       "    </tr>\n",
       "  </thead>\n",
       "  <tbody>\n",
       "    <tr>\n",
       "      <th>Spend [USD]</th>\n",
       "      <td>1.00</td>\n",
       "      <td>-0.14</td>\n",
       "      <td>-0.00</td>\n",
       "      <td>0.00</td>\n",
       "      <td>0.05</td>\n",
       "      <td>-0.07</td>\n",
       "      <td>0.14</td>\n",
       "      <td>0.00</td>\n",
       "    </tr>\n",
       "    <tr>\n",
       "      <th># of Impressions</th>\n",
       "      <td>-0.14</td>\n",
       "      <td>1.00</td>\n",
       "      <td>0.81</td>\n",
       "      <td>0.80</td>\n",
       "      <td>0.70</td>\n",
       "      <td>0.73</td>\n",
       "      <td>0.60</td>\n",
       "      <td>0.73</td>\n",
       "    </tr>\n",
       "    <tr>\n",
       "      <th>Reach</th>\n",
       "      <td>-0.00</td>\n",
       "      <td>0.81</td>\n",
       "      <td>1.00</td>\n",
       "      <td>0.67</td>\n",
       "      <td>0.63</td>\n",
       "      <td>0.59</td>\n",
       "      <td>0.57</td>\n",
       "      <td>0.61</td>\n",
       "    </tr>\n",
       "    <tr>\n",
       "      <th># of Website Clicks</th>\n",
       "      <td>0.00</td>\n",
       "      <td>0.80</td>\n",
       "      <td>0.67</td>\n",
       "      <td>1.00</td>\n",
       "      <td>0.93</td>\n",
       "      <td>0.93</td>\n",
       "      <td>0.78</td>\n",
       "      <td>0.97</td>\n",
       "    </tr>\n",
       "    <tr>\n",
       "      <th># of Searches</th>\n",
       "      <td>0.05</td>\n",
       "      <td>0.70</td>\n",
       "      <td>0.63</td>\n",
       "      <td>0.93</td>\n",
       "      <td>1.00</td>\n",
       "      <td>0.84</td>\n",
       "      <td>0.69</td>\n",
       "      <td>0.92</td>\n",
       "    </tr>\n",
       "    <tr>\n",
       "      <th># of View Content</th>\n",
       "      <td>-0.07</td>\n",
       "      <td>0.73</td>\n",
       "      <td>0.59</td>\n",
       "      <td>0.93</td>\n",
       "      <td>0.84</td>\n",
       "      <td>1.00</td>\n",
       "      <td>0.77</td>\n",
       "      <td>0.89</td>\n",
       "    </tr>\n",
       "    <tr>\n",
       "      <th># of Add to Cart</th>\n",
       "      <td>0.14</td>\n",
       "      <td>0.60</td>\n",
       "      <td>0.57</td>\n",
       "      <td>0.78</td>\n",
       "      <td>0.69</td>\n",
       "      <td>0.77</td>\n",
       "      <td>1.00</td>\n",
       "      <td>0.78</td>\n",
       "    </tr>\n",
       "    <tr>\n",
       "      <th># of Purchase</th>\n",
       "      <td>0.00</td>\n",
       "      <td>0.73</td>\n",
       "      <td>0.61</td>\n",
       "      <td>0.97</td>\n",
       "      <td>0.92</td>\n",
       "      <td>0.89</td>\n",
       "      <td>0.78</td>\n",
       "      <td>1.00</td>\n",
       "    </tr>\n",
       "  </tbody>\n",
       "</table>\n",
       "</div>"
      ],
      "text/plain": [
       "                     Spend [USD]  # of Impressions  Reach  \\\n",
       "Spend [USD]                 1.00             -0.14  -0.00   \n",
       "# of Impressions           -0.14              1.00   0.81   \n",
       "Reach                      -0.00              0.81   1.00   \n",
       "# of Website Clicks         0.00              0.80   0.67   \n",
       "# of Searches               0.05              0.70   0.63   \n",
       "# of View Content          -0.07              0.73   0.59   \n",
       "# of Add to Cart            0.14              0.60   0.57   \n",
       "# of Purchase               0.00              0.73   0.61   \n",
       "\n",
       "                     # of Website Clicks  # of Searches  # of View Content  \\\n",
       "Spend [USD]                         0.00           0.05              -0.07   \n",
       "# of Impressions                    0.80           0.70               0.73   \n",
       "Reach                               0.67           0.63               0.59   \n",
       "# of Website Clicks                 1.00           0.93               0.93   \n",
       "# of Searches                       0.93           1.00               0.84   \n",
       "# of View Content                   0.93           0.84               1.00   \n",
       "# of Add to Cart                    0.78           0.69               0.77   \n",
       "# of Purchase                       0.97           0.92               0.89   \n",
       "\n",
       "                     # of Add to Cart  # of Purchase  \n",
       "Spend [USD]                      0.14           0.00  \n",
       "# of Impressions                 0.60           0.73  \n",
       "Reach                            0.57           0.61  \n",
       "# of Website Clicks              0.78           0.97  \n",
       "# of Searches                    0.69           0.92  \n",
       "# of View Content                0.77           0.89  \n",
       "# of Add to Cart                 1.00           0.78  \n",
       "# of Purchase                    0.78           1.00  "
      ]
     },
     "execution_count": 5,
     "metadata": {},
     "output_type": "execute_result"
    }
   ],
   "source": [
    "control.corr().round(2)"
   ]
  },
  {
   "cell_type": "code",
   "execution_count": 6,
   "metadata": {},
   "outputs": [],
   "source": [
    "#as we can see from above, Spend variable has no significant correlation between other variables.\n",
    "#But, other variables have high correlation between each other and between the \"# of Purchase\" varible. To visualize:"
   ]
  },
  {
   "cell_type": "code",
   "execution_count": 7,
   "metadata": {},
   "outputs": [
    {
     "data": {
      "image/png": "[encoded data removed]",
      "text/plain": [
       "<Figure size 720x720 with 4 Axes>"
      ]
     },
     "metadata": {
      "needs_background": "light"
     },
     "output_type": "display_data"
    }
   ],
   "source": [
    "correlation_matrix = control.corr().round(2)\n",
    "threshold=0.75\n",
    "filtre=np.abs(correlation_matrix['# of Purchase'])>0.50\n",
    "corr_features=correlation_matrix.columns[filtre].tolist()\n",
    "sns.clustermap(control[corr_features].corr(),annot=True,fmt=\".2f\")\n",
    "plt.title('Correlation btw features')\n",
    "plt.show()"
   ]
  },
  {
   "cell_type": "code",
   "execution_count": 8,
   "metadata": {},
   "outputs": [
    {
     "data": {
      "text/html": [
       "<div>\n",
       "<style scoped>\n",
       "    .dataframe tbody tr th:only-of-type {\n",
       "        vertical-align: middle;\n",
       "    }\n",
       "\n",
       "    .dataframe tbody tr th {\n",
       "        vertical-align: top;\n",
       "    }\n",
       "\n",
       "    .dataframe thead th {\n",
       "        text-align: right;\n",
       "    }\n",
       "</style>\n",
       "<table border=\"1\" class=\"dataframe\">\n",
       "  <thead>\n",
       "    <tr style=\"text-align: right;\">\n",
       "      <th></th>\n",
       "      <th>Campaign Name</th>\n",
       "      <th>Date</th>\n",
       "      <th>Spend [USD]</th>\n",
       "      <th># of Impressions</th>\n",
       "      <th>Reach</th>\n",
       "      <th># of Website Clicks</th>\n",
       "      <th># of Searches</th>\n",
       "      <th># of View Content</th>\n",
       "      <th># of Add to Cart</th>\n",
       "      <th># of Purchase</th>\n",
       "    </tr>\n",
       "  </thead>\n",
       "  <tbody>\n",
       "    <tr>\n",
       "      <th>0</th>\n",
       "      <td>Test Campaign</td>\n",
       "      <td>2017.01.01</td>\n",
       "      <td>2335.586267</td>\n",
       "      <td>160244</td>\n",
       "      <td>121551</td>\n",
       "      <td>8223</td>\n",
       "      <td>2989</td>\n",
       "      <td>2949</td>\n",
       "      <td>1371</td>\n",
       "      <td>913</td>\n",
       "    </tr>\n",
       "    <tr>\n",
       "      <th>1</th>\n",
       "      <td>Test Campaign</td>\n",
       "      <td>2017.01.02</td>\n",
       "      <td>2899.490621</td>\n",
       "      <td>100793</td>\n",
       "      <td>68241</td>\n",
       "      <td>4972</td>\n",
       "      <td>2162</td>\n",
       "      <td>1388</td>\n",
       "      <td>1253</td>\n",
       "      <td>510</td>\n",
       "    </tr>\n",
       "    <tr>\n",
       "      <th>2</th>\n",
       "      <td>Test Campaign</td>\n",
       "      <td>2017.01.03</td>\n",
       "      <td>3031.740149</td>\n",
       "      <td>89525</td>\n",
       "      <td>83450</td>\n",
       "      <td>3514</td>\n",
       "      <td>1365</td>\n",
       "      <td>1251</td>\n",
       "      <td>995</td>\n",
       "      <td>391</td>\n",
       "    </tr>\n",
       "    <tr>\n",
       "      <th>3</th>\n",
       "      <td>Test Campaign</td>\n",
       "      <td>2017.01.04</td>\n",
       "      <td>2794.847648</td>\n",
       "      <td>110122</td>\n",
       "      <td>89985</td>\n",
       "      <td>4411</td>\n",
       "      <td>1533</td>\n",
       "      <td>1134</td>\n",
       "      <td>951</td>\n",
       "      <td>434</td>\n",
       "    </tr>\n",
       "    <tr>\n",
       "      <th>4</th>\n",
       "      <td>Test Campaign</td>\n",
       "      <td>2017.01.05</td>\n",
       "      <td>2201.845423</td>\n",
       "      <td>122204</td>\n",
       "      <td>84000</td>\n",
       "      <td>5165</td>\n",
       "      <td>1582</td>\n",
       "      <td>1007</td>\n",
       "      <td>810</td>\n",
       "      <td>492</td>\n",
       "    </tr>\n",
       "  </tbody>\n",
       "</table>\n",
       "</div>"
      ],
      "text/plain": [
       "   Campaign Name        Date  Spend [USD]  # of Impressions   Reach  \\\n",
       "0  Test Campaign  2017.01.01  2335.586267            160244  121551   \n",
       "1  Test Campaign  2017.01.02  2899.490621            100793   68241   \n",
       "2  Test Campaign  2017.01.03  3031.740149             89525   83450   \n",
       "3  Test Campaign  2017.01.04  2794.847648            110122   89985   \n",
       "4  Test Campaign  2017.01.05  2201.845423            122204   84000   \n",
       "\n",
       "   # of Website Clicks  # of Searches  # of View Content  # of Add to Cart  \\\n",
       "0                 8223           2989               2949              1371   \n",
       "1                 4972           2162               1388              1253   \n",
       "2                 3514           1365               1251               995   \n",
       "3                 4411           1533               1134               951   \n",
       "4                 5165           1582               1007               810   \n",
       "\n",
       "   # of Purchase  \n",
       "0            913  \n",
       "1            510  \n",
       "2            391  \n",
       "3            434  \n",
       "4            492  "
      ]
     },
     "execution_count": 8,
     "metadata": {},
     "output_type": "execute_result"
    }
   ],
   "source": [
    "test.head()"
   ]
  },
  {
   "cell_type": "code",
   "execution_count": 9,
   "metadata": {},
   "outputs": [
    {
     "data": {
      "text/html": [
       "<div>\n",
       "<style scoped>\n",
       "    .dataframe tbody tr th:only-of-type {\n",
       "        vertical-align: middle;\n",
       "    }\n",
       "\n",
       "    .dataframe tbody tr th {\n",
       "        vertical-align: top;\n",
       "    }\n",
       "\n",
       "    .dataframe thead th {\n",
       "        text-align: right;\n",
       "    }\n",
       "</style>\n",
       "<table border=\"1\" class=\"dataframe\">\n",
       "  <thead>\n",
       "    <tr style=\"text-align: right;\">\n",
       "      <th></th>\n",
       "      <th>count</th>\n",
       "      <th>mean</th>\n",
       "      <th>std</th>\n",
       "      <th>min</th>\n",
       "      <th>10%</th>\n",
       "      <th>25%</th>\n",
       "      <th>50%</th>\n",
       "      <th>75%</th>\n",
       "      <th>90%</th>\n",
       "      <th>95%</th>\n",
       "      <th>99%</th>\n",
       "      <th>max</th>\n",
       "    </tr>\n",
       "  </thead>\n",
       "  <tbody>\n",
       "    <tr>\n",
       "      <th>Spend [USD]</th>\n",
       "      <td>30.0</td>\n",
       "      <td>2571.43</td>\n",
       "      <td>298.02</td>\n",
       "      <td>1974.36</td>\n",
       "      <td>2185.02</td>\n",
       "      <td>2344.07</td>\n",
       "      <td>2641.86</td>\n",
       "      <td>2807.27</td>\n",
       "      <td>2896.59</td>\n",
       "      <td>2972.23</td>\n",
       "      <td>3074.01</td>\n",
       "      <td>3091.27</td>\n",
       "    </tr>\n",
       "    <tr>\n",
       "      <th># of Impressions</th>\n",
       "      <td>30.0</td>\n",
       "      <td>110497.30</td>\n",
       "      <td>21330.44</td>\n",
       "      <td>73246.00</td>\n",
       "      <td>81967.10</td>\n",
       "      <td>99564.25</td>\n",
       "      <td>108999.00</td>\n",
       "      <td>122314.25</td>\n",
       "      <td>138668.00</td>\n",
       "      <td>144149.70</td>\n",
       "      <td>156849.55</td>\n",
       "      <td>160244.00</td>\n",
       "    </tr>\n",
       "    <tr>\n",
       "      <th>Reach</th>\n",
       "      <td>30.0</td>\n",
       "      <td>88826.83</td>\n",
       "      <td>21373.02</td>\n",
       "      <td>53002.00</td>\n",
       "      <td>66001.80</td>\n",
       "      <td>71442.00</td>\n",
       "      <td>86525.50</td>\n",
       "      <td>104221.00</td>\n",
       "      <td>111679.80</td>\n",
       "      <td>129359.35</td>\n",
       "      <td>136830.75</td>\n",
       "      <td>137273.00</td>\n",
       "    </tr>\n",
       "    <tr>\n",
       "      <th># of Website Clicks</th>\n",
       "      <td>30.0</td>\n",
       "      <td>4863.87</td>\n",
       "      <td>1178.62</td>\n",
       "      <td>3086.00</td>\n",
       "      <td>3507.60</td>\n",
       "      <td>3991.25</td>\n",
       "      <td>4910.00</td>\n",
       "      <td>5471.00</td>\n",
       "      <td>6417.10</td>\n",
       "      <td>6660.75</td>\n",
       "      <td>7778.43</td>\n",
       "      <td>8223.00</td>\n",
       "    </tr>\n",
       "    <tr>\n",
       "      <th># of Searches</th>\n",
       "      <td>30.0</td>\n",
       "      <td>1862.43</td>\n",
       "      <td>482.16</td>\n",
       "      <td>1157.00</td>\n",
       "      <td>1354.80</td>\n",
       "      <td>1540.50</td>\n",
       "      <td>1822.00</td>\n",
       "      <td>2176.25</td>\n",
       "      <td>2479.00</td>\n",
       "      <td>2729.70</td>\n",
       "      <td>2915.63</td>\n",
       "      <td>2989.00</td>\n",
       "    </tr>\n",
       "    <tr>\n",
       "      <th># of View Content</th>\n",
       "      <td>30.0</td>\n",
       "      <td>1457.60</td>\n",
       "      <td>484.11</td>\n",
       "      <td>817.00</td>\n",
       "      <td>963.80</td>\n",
       "      <td>1145.50</td>\n",
       "      <td>1321.50</td>\n",
       "      <td>1720.00</td>\n",
       "      <td>2074.20</td>\n",
       "      <td>2229.35</td>\n",
       "      <td>2766.01</td>\n",
       "      <td>2949.00</td>\n",
       "    </tr>\n",
       "    <tr>\n",
       "      <th># of Add to Cart</th>\n",
       "      <td>30.0</td>\n",
       "      <td>885.33</td>\n",
       "      <td>270.61</td>\n",
       "      <td>226.00</td>\n",
       "      <td>562.40</td>\n",
       "      <td>687.50</td>\n",
       "      <td>880.50</td>\n",
       "      <td>1062.25</td>\n",
       "      <td>1210.70</td>\n",
       "      <td>1290.40</td>\n",
       "      <td>1356.50</td>\n",
       "      <td>1371.00</td>\n",
       "    </tr>\n",
       "    <tr>\n",
       "      <th># of Purchase</th>\n",
       "      <td>30.0</td>\n",
       "      <td>486.07</td>\n",
       "      <td>125.65</td>\n",
       "      <td>277.00</td>\n",
       "      <td>362.90</td>\n",
       "      <td>410.00</td>\n",
       "      <td>472.00</td>\n",
       "      <td>549.00</td>\n",
       "      <td>613.20</td>\n",
       "      <td>657.35</td>\n",
       "      <td>848.91</td>\n",
       "      <td>913.00</td>\n",
       "    </tr>\n",
       "  </tbody>\n",
       "</table>\n",
       "</div>"
      ],
      "text/plain": [
       "                     count       mean       std       min       10%       25%  \\\n",
       "Spend [USD]           30.0    2571.43    298.02   1974.36   2185.02   2344.07   \n",
       "# of Impressions      30.0  110497.30  21330.44  73246.00  81967.10  99564.25   \n",
       "Reach                 30.0   88826.83  21373.02  53002.00  66001.80  71442.00   \n",
       "# of Website Clicks   30.0    4863.87   1178.62   3086.00   3507.60   3991.25   \n",
       "# of Searches         30.0    1862.43    482.16   1157.00   1354.80   1540.50   \n",
       "# of View Content     30.0    1457.60    484.11    817.00    963.80   1145.50   \n",
       "# of Add to Cart      30.0     885.33    270.61    226.00    562.40    687.50   \n",
       "# of Purchase         30.0     486.07    125.65    277.00    362.90    410.00   \n",
       "\n",
       "                           50%        75%        90%        95%        99%  \\\n",
       "Spend [USD]            2641.86    2807.27    2896.59    2972.23    3074.01   \n",
       "# of Impressions     108999.00  122314.25  138668.00  144149.70  156849.55   \n",
       "Reach                 86525.50  104221.00  111679.80  129359.35  136830.75   \n",
       "# of Website Clicks    4910.00    5471.00    6417.10    6660.75    7778.43   \n",
       "# of Searches          1822.00    2176.25    2479.00    2729.70    2915.63   \n",
       "# of View Content      1321.50    1720.00    2074.20    2229.35    2766.01   \n",
       "# of Add to Cart        880.50    1062.25    1210.70    1290.40    1356.50   \n",
       "# of Purchase           472.00     549.00     613.20     657.35     848.91   \n",
       "\n",
       "                           max  \n",
       "Spend [USD]            3091.27  \n",
       "# of Impressions     160244.00  \n",
       "Reach                137273.00  \n",
       "# of Website Clicks    8223.00  \n",
       "# of Searches          2989.00  \n",
       "# of View Content      2949.00  \n",
       "# of Add to Cart       1371.00  \n",
       "# of Purchase           913.00  "
      ]
     },
     "execution_count": 9,
     "metadata": {},
     "output_type": "execute_result"
    }
   ],
   "source": [
    "test.describe([0.10,0.25,0.50,0.75,0.90,0.95,0.99]).round(2).T"
   ]
  },
  {
   "cell_type": "code",
   "execution_count": 10,
   "metadata": {},
   "outputs": [
    {
     "data": {
      "text/html": [
       "<div>\n",
       "<style scoped>\n",
       "    .dataframe tbody tr th:only-of-type {\n",
       "        vertical-align: middle;\n",
       "    }\n",
       "\n",
       "    .dataframe tbody tr th {\n",
       "        vertical-align: top;\n",
       "    }\n",
       "\n",
       "    .dataframe thead th {\n",
       "        text-align: right;\n",
       "    }\n",
       "</style>\n",
       "<table border=\"1\" class=\"dataframe\">\n",
       "  <thead>\n",
       "    <tr style=\"text-align: right;\">\n",
       "      <th></th>\n",
       "      <th>Spend [USD]</th>\n",
       "      <th># of Impressions</th>\n",
       "      <th>Reach</th>\n",
       "      <th># of Website Clicks</th>\n",
       "      <th># of Searches</th>\n",
       "      <th># of View Content</th>\n",
       "      <th># of Add to Cart</th>\n",
       "      <th># of Purchase</th>\n",
       "    </tr>\n",
       "  </thead>\n",
       "  <tbody>\n",
       "    <tr>\n",
       "      <th>Spend [USD]</th>\n",
       "      <td>1.00</td>\n",
       "      <td>-0.47</td>\n",
       "      <td>-0.34</td>\n",
       "      <td>-0.37</td>\n",
       "      <td>-0.25</td>\n",
       "      <td>-0.18</td>\n",
       "      <td>-0.07</td>\n",
       "      <td>-0.31</td>\n",
       "    </tr>\n",
       "    <tr>\n",
       "      <th># of Impressions</th>\n",
       "      <td>-0.47</td>\n",
       "      <td>1.00</td>\n",
       "      <td>0.86</td>\n",
       "      <td>0.89</td>\n",
       "      <td>0.73</td>\n",
       "      <td>0.67</td>\n",
       "      <td>0.41</td>\n",
       "      <td>0.86</td>\n",
       "    </tr>\n",
       "    <tr>\n",
       "      <th>Reach</th>\n",
       "      <td>-0.34</td>\n",
       "      <td>0.86</td>\n",
       "      <td>1.00</td>\n",
       "      <td>0.66</td>\n",
       "      <td>0.56</td>\n",
       "      <td>0.45</td>\n",
       "      <td>0.23</td>\n",
       "      <td>0.61</td>\n",
       "    </tr>\n",
       "    <tr>\n",
       "      <th># of Website Clicks</th>\n",
       "      <td>-0.37</td>\n",
       "      <td>0.89</td>\n",
       "      <td>0.66</td>\n",
       "      <td>1.00</td>\n",
       "      <td>0.89</td>\n",
       "      <td>0.76</td>\n",
       "      <td>0.56</td>\n",
       "      <td>0.97</td>\n",
       "    </tr>\n",
       "    <tr>\n",
       "      <th># of Searches</th>\n",
       "      <td>-0.25</td>\n",
       "      <td>0.73</td>\n",
       "      <td>0.56</td>\n",
       "      <td>0.89</td>\n",
       "      <td>1.00</td>\n",
       "      <td>0.68</td>\n",
       "      <td>0.61</td>\n",
       "      <td>0.83</td>\n",
       "    </tr>\n",
       "    <tr>\n",
       "      <th># of View Content</th>\n",
       "      <td>-0.18</td>\n",
       "      <td>0.67</td>\n",
       "      <td>0.45</td>\n",
       "      <td>0.76</td>\n",
       "      <td>0.68</td>\n",
       "      <td>1.00</td>\n",
       "      <td>0.44</td>\n",
       "      <td>0.83</td>\n",
       "    </tr>\n",
       "    <tr>\n",
       "      <th># of Add to Cart</th>\n",
       "      <td>-0.07</td>\n",
       "      <td>0.41</td>\n",
       "      <td>0.23</td>\n",
       "      <td>0.56</td>\n",
       "      <td>0.61</td>\n",
       "      <td>0.44</td>\n",
       "      <td>1.00</td>\n",
       "      <td>0.55</td>\n",
       "    </tr>\n",
       "    <tr>\n",
       "      <th># of Purchase</th>\n",
       "      <td>-0.31</td>\n",
       "      <td>0.86</td>\n",
       "      <td>0.61</td>\n",
       "      <td>0.97</td>\n",
       "      <td>0.83</td>\n",
       "      <td>0.83</td>\n",
       "      <td>0.55</td>\n",
       "      <td>1.00</td>\n",
       "    </tr>\n",
       "  </tbody>\n",
       "</table>\n",
       "</div>"
      ],
      "text/plain": [
       "                     Spend [USD]  # of Impressions  Reach  \\\n",
       "Spend [USD]                 1.00             -0.47  -0.34   \n",
       "# of Impressions           -0.47              1.00   0.86   \n",
       "Reach                      -0.34              0.86   1.00   \n",
       "# of Website Clicks        -0.37              0.89   0.66   \n",
       "# of Searches              -0.25              0.73   0.56   \n",
       "# of View Content          -0.18              0.67   0.45   \n",
       "# of Add to Cart           -0.07              0.41   0.23   \n",
       "# of Purchase              -0.31              0.86   0.61   \n",
       "\n",
       "                     # of Website Clicks  # of Searches  # of View Content  \\\n",
       "Spend [USD]                        -0.37          -0.25              -0.18   \n",
       "# of Impressions                    0.89           0.73               0.67   \n",
       "Reach                               0.66           0.56               0.45   \n",
       "# of Website Clicks                 1.00           0.89               0.76   \n",
       "# of Searches                       0.89           1.00               0.68   \n",
       "# of View Content                   0.76           0.68               1.00   \n",
       "# of Add to Cart                    0.56           0.61               0.44   \n",
       "# of Purchase                       0.97           0.83               0.83   \n",
       "\n",
       "                     # of Add to Cart  # of Purchase  \n",
       "Spend [USD]                     -0.07          -0.31  \n",
       "# of Impressions                 0.41           0.86  \n",
       "Reach                            0.23           0.61  \n",
       "# of Website Clicks              0.56           0.97  \n",
       "# of Searches                    0.61           0.83  \n",
       "# of View Content                0.44           0.83  \n",
       "# of Add to Cart                 1.00           0.55  \n",
       "# of Purchase                    0.55           1.00  "
      ]
     },
     "execution_count": 10,
     "metadata": {},
     "output_type": "execute_result"
    }
   ],
   "source": [
    "test.corr().round(2)"
   ]
  },
  {
   "cell_type": "code",
   "execution_count": 11,
   "metadata": {},
   "outputs": [],
   "source": [
    "#as we can see from above, Spend variable has no significant correlation between other variables.\n",
    "#But, other variables have high correlation between each other and between the \"# of Purchase\" varible. To visualize:"
   ]
  },
  {
   "cell_type": "code",
   "execution_count": 12,
   "metadata": {},
   "outputs": [
    {
     "data": {
      "image/png": "[encoded data removed]",
      "text/plain": [
       "<Figure size 720x720 with 4 Axes>"
      ]
     },
     "metadata": {
      "needs_background": "light"
     },
     "output_type": "display_data"
    }
   ],
   "source": [
    "correlation_matrix = test.corr().round(2)\n",
    "threshold=0.75\n",
    "filtre=np.abs(correlation_matrix['# of Purchase'])>0.50\n",
    "corr_features=correlation_matrix.columns[filtre].tolist()\n",
    "sns.clustermap(test[corr_features].corr(),annot=True,fmt=\".2f\")\n",
    "plt.title('Correlation btw features')\n",
    "plt.show()"
   ]
  },
  {
   "cell_type": "markdown",
   "metadata": {},
   "source": [
    "## DATA PREPROCESSING"
   ]
  },
  {
   "cell_type": "code",
   "execution_count": 13,
   "metadata": {},
   "outputs": [
    {
     "data": {
      "text/plain": [
       "Campaign Name          0\n",
       "Date                   0\n",
       "Spend [USD]            0\n",
       "# of Impressions       0\n",
       "Reach                  0\n",
       "# of Website Clicks    0\n",
       "# of Searches          0\n",
       "# of View Content      0\n",
       "# of Add to Cart       0\n",
       "# of Purchase          0\n",
       "dtype: int64"
      ]
     },
     "execution_count": 13,
     "metadata": {},
     "output_type": "execute_result"
    }
   ],
   "source": [
    "test.isnull().sum()"
   ]
  },
  {
   "cell_type": "code",
   "execution_count": 14,
   "metadata": {},
   "outputs": [],
   "source": [
    "#there is no nll value in test group"
   ]
  },
  {
   "cell_type": "code",
   "execution_count": 15,
   "metadata": {},
   "outputs": [
    {
     "data": {
      "text/plain": [
       "Campaign Name          0\n",
       "Date                   0\n",
       "Spend [USD]            0\n",
       "# of Impressions       1\n",
       "Reach                  1\n",
       "# of Website Clicks    1\n",
       "# of Searches          1\n",
       "# of View Content      1\n",
       "# of Add to Cart       1\n",
       "# of Purchase          1\n",
       "dtype: int64"
      ]
     },
     "execution_count": 15,
     "metadata": {},
     "output_type": "execute_result"
    }
   ],
   "source": [
    "control.isnull().sum()"
   ]
  },
  {
   "cell_type": "code",
   "execution_count": 16,
   "metadata": {},
   "outputs": [],
   "source": [
    "#we can see that there is one missing value in #of Purchase and 6 other variable. \n",
    "##First, lets drop the object and date variables and then\n",
    "#lets assign the mean of these variables to their own NA values "
   ]
  },
  {
   "cell_type": "code",
   "execution_count": 17,
   "metadata": {},
   "outputs": [],
   "source": [
    "control=control.drop(\"Campaign Name\", axis=1)"
   ]
  },
  {
   "cell_type": "code",
   "execution_count": 18,
   "metadata": {},
   "outputs": [],
   "source": [
    "control=control.drop(\"Date\", axis=1)"
   ]
  },
  {
   "cell_type": "code",
   "execution_count": 19,
   "metadata": {},
   "outputs": [],
   "source": [
    "control=control.apply(lambda x: x.fillna(x.mean()),axis=0)"
   ]
  },
  {
   "cell_type": "code",
   "execution_count": 20,
   "metadata": {},
   "outputs": [
    {
     "data": {
      "text/plain": [
       "Spend [USD]            0\n",
       "# of Impressions       0\n",
       "Reach                  0\n",
       "# of Website Clicks    0\n",
       "# of Searches          0\n",
       "# of View Content      0\n",
       "# of Add to Cart       0\n",
       "# of Purchase          0\n",
       "dtype: int64"
      ]
     },
     "execution_count": 20,
     "metadata": {},
     "output_type": "execute_result"
    }
   ],
   "source": [
    "control.isnull().sum()"
   ]
  },
  {
   "cell_type": "code",
   "execution_count": 21,
   "metadata": {},
   "outputs": [],
   "source": [
    "#as we can see, there is no null value anymore. "
   ]
  },
  {
   "cell_type": "code",
   "execution_count": 22,
   "metadata": {},
   "outputs": [
    {
     "data": {
      "text/html": [
       "<div>\n",
       "<style scoped>\n",
       "    .dataframe tbody tr th:only-of-type {\n",
       "        vertical-align: middle;\n",
       "    }\n",
       "\n",
       "    .dataframe tbody tr th {\n",
       "        vertical-align: top;\n",
       "    }\n",
       "\n",
       "    .dataframe thead th {\n",
       "        text-align: right;\n",
       "    }\n",
       "</style>\n",
       "<table border=\"1\" class=\"dataframe\">\n",
       "  <thead>\n",
       "    <tr style=\"text-align: right;\">\n",
       "      <th></th>\n",
       "      <th>Spend [USD]</th>\n",
       "      <th># of Impressions</th>\n",
       "      <th>Reach</th>\n",
       "      <th># of Website Clicks</th>\n",
       "      <th># of Searches</th>\n",
       "      <th># of View Content</th>\n",
       "      <th># of Add to Cart</th>\n",
       "      <th># of Purchase</th>\n",
       "    </tr>\n",
       "  </thead>\n",
       "  <tbody>\n",
       "    <tr>\n",
       "      <th>0</th>\n",
       "      <td>2436.124529</td>\n",
       "      <td>90572.000000</td>\n",
       "      <td>75440.000000</td>\n",
       "      <td>4150.000000</td>\n",
       "      <td>1657.000000</td>\n",
       "      <td>1541.000000</td>\n",
       "      <td>566.000000</td>\n",
       "      <td>383.00000</td>\n",
       "    </tr>\n",
       "    <tr>\n",
       "      <th>1</th>\n",
       "      <td>2621.043006</td>\n",
       "      <td>129612.000000</td>\n",
       "      <td>95667.000000</td>\n",
       "      <td>6387.000000</td>\n",
       "      <td>2265.000000</td>\n",
       "      <td>1563.000000</td>\n",
       "      <td>1577.000000</td>\n",
       "      <td>644.00000</td>\n",
       "    </tr>\n",
       "    <tr>\n",
       "      <th>2</th>\n",
       "      <td>2427.021083</td>\n",
       "      <td>132803.000000</td>\n",
       "      <td>121762.000000</td>\n",
       "      <td>6887.000000</td>\n",
       "      <td>3100.000000</td>\n",
       "      <td>2048.000000</td>\n",
       "      <td>1381.000000</td>\n",
       "      <td>639.00000</td>\n",
       "    </tr>\n",
       "    <tr>\n",
       "      <th>3</th>\n",
       "      <td>2565.414978</td>\n",
       "      <td>120570.000000</td>\n",
       "      <td>104011.000000</td>\n",
       "      <td>6478.000000</td>\n",
       "      <td>2579.000000</td>\n",
       "      <td>2083.000000</td>\n",
       "      <td>1650.000000</td>\n",
       "      <td>649.00000</td>\n",
       "    </tr>\n",
       "    <tr>\n",
       "      <th>4</th>\n",
       "      <td>2648.683326</td>\n",
       "      <td>95822.000000</td>\n",
       "      <td>69059.000000</td>\n",
       "      <td>4532.000000</td>\n",
       "      <td>1823.000000</td>\n",
       "      <td>1220.000000</td>\n",
       "      <td>940.000000</td>\n",
       "      <td>455.00000</td>\n",
       "    </tr>\n",
       "    <tr>\n",
       "      <th>5</th>\n",
       "      <td>2306.081623</td>\n",
       "      <td>118268.000000</td>\n",
       "      <td>83562.000000</td>\n",
       "      <td>6596.000000</td>\n",
       "      <td>2955.000000</td>\n",
       "      <td>1815.000000</td>\n",
       "      <td>1455.000000</td>\n",
       "      <td>734.00000</td>\n",
       "    </tr>\n",
       "    <tr>\n",
       "      <th>6</th>\n",
       "      <td>2356.996404</td>\n",
       "      <td>144806.000000</td>\n",
       "      <td>105315.000000</td>\n",
       "      <td>8139.000000</td>\n",
       "      <td>3262.000000</td>\n",
       "      <td>2559.000000</td>\n",
       "      <td>1502.000000</td>\n",
       "      <td>799.00000</td>\n",
       "    </tr>\n",
       "    <tr>\n",
       "      <th>7</th>\n",
       "      <td>2670.222971</td>\n",
       "      <td>97719.000000</td>\n",
       "      <td>74746.000000</td>\n",
       "      <td>5508.000000</td>\n",
       "      <td>2282.000000</td>\n",
       "      <td>1840.000000</td>\n",
       "      <td>837.000000</td>\n",
       "      <td>605.00000</td>\n",
       "    </tr>\n",
       "    <tr>\n",
       "      <th>8</th>\n",
       "      <td>2720.901584</td>\n",
       "      <td>113781.000000</td>\n",
       "      <td>97334.000000</td>\n",
       "      <td>5901.000000</td>\n",
       "      <td>2109.000000</td>\n",
       "      <td>1955.000000</td>\n",
       "      <td>1959.000000</td>\n",
       "      <td>562.00000</td>\n",
       "    </tr>\n",
       "    <tr>\n",
       "      <th>9</th>\n",
       "      <td>2441.534142</td>\n",
       "      <td>125097.000000</td>\n",
       "      <td>90192.000000</td>\n",
       "      <td>7646.000000</td>\n",
       "      <td>2914.000000</td>\n",
       "      <td>2200.000000</td>\n",
       "      <td>1433.000000</td>\n",
       "      <td>717.00000</td>\n",
       "    </tr>\n",
       "    <tr>\n",
       "      <th>10</th>\n",
       "      <td>2757.649696</td>\n",
       "      <td>134810.000000</td>\n",
       "      <td>106025.000000</td>\n",
       "      <td>6689.000000</td>\n",
       "      <td>3028.000000</td>\n",
       "      <td>1898.000000</td>\n",
       "      <td>1578.000000</td>\n",
       "      <td>663.00000</td>\n",
       "    </tr>\n",
       "    <tr>\n",
       "      <th>11</th>\n",
       "      <td>2648.565944</td>\n",
       "      <td>114608.827586</td>\n",
       "      <td>87628.482759</td>\n",
       "      <td>5150.896552</td>\n",
       "      <td>2016.758621</td>\n",
       "      <td>1546.310345</td>\n",
       "      <td>1061.862069</td>\n",
       "      <td>507.37931</td>\n",
       "    </tr>\n",
       "    <tr>\n",
       "      <th>12</th>\n",
       "      <td>3105.836356</td>\n",
       "      <td>96185.000000</td>\n",
       "      <td>71186.000000</td>\n",
       "      <td>4455.000000</td>\n",
       "      <td>1840.000000</td>\n",
       "      <td>1100.000000</td>\n",
       "      <td>715.000000</td>\n",
       "      <td>449.00000</td>\n",
       "    </tr>\n",
       "    <tr>\n",
       "      <th>13</th>\n",
       "      <td>2059.347912</td>\n",
       "      <td>111824.000000</td>\n",
       "      <td>90412.000000</td>\n",
       "      <td>4247.000000</td>\n",
       "      <td>1365.000000</td>\n",
       "      <td>1210.000000</td>\n",
       "      <td>778.000000</td>\n",
       "      <td>457.00000</td>\n",
       "    </tr>\n",
       "    <tr>\n",
       "      <th>14</th>\n",
       "      <td>2549.081035</td>\n",
       "      <td>120735.000000</td>\n",
       "      <td>80444.000000</td>\n",
       "      <td>5919.000000</td>\n",
       "      <td>1969.000000</td>\n",
       "      <td>2048.000000</td>\n",
       "      <td>1626.000000</td>\n",
       "      <td>596.00000</td>\n",
       "    </tr>\n",
       "    <tr>\n",
       "      <th>15</th>\n",
       "      <td>2147.148579</td>\n",
       "      <td>119465.000000</td>\n",
       "      <td>106623.000000</td>\n",
       "      <td>4994.000000</td>\n",
       "      <td>1920.000000</td>\n",
       "      <td>1585.000000</td>\n",
       "      <td>1135.000000</td>\n",
       "      <td>472.00000</td>\n",
       "    </tr>\n",
       "    <tr>\n",
       "      <th>16</th>\n",
       "      <td>1723.719827</td>\n",
       "      <td>136320.000000</td>\n",
       "      <td>88532.000000</td>\n",
       "      <td>6404.000000</td>\n",
       "      <td>2214.000000</td>\n",
       "      <td>2051.000000</td>\n",
       "      <td>1071.000000</td>\n",
       "      <td>603.00000</td>\n",
       "    </tr>\n",
       "    <tr>\n",
       "      <th>17</th>\n",
       "      <td>2737.803732</td>\n",
       "      <td>119816.000000</td>\n",
       "      <td>83154.000000</td>\n",
       "      <td>4904.000000</td>\n",
       "      <td>1735.000000</td>\n",
       "      <td>1605.000000</td>\n",
       "      <td>1567.000000</td>\n",
       "      <td>467.00000</td>\n",
       "    </tr>\n",
       "    <tr>\n",
       "      <th>18</th>\n",
       "      <td>2309.703158</td>\n",
       "      <td>120979.000000</td>\n",
       "      <td>92930.000000</td>\n",
       "      <td>4975.000000</td>\n",
       "      <td>2108.000000</td>\n",
       "      <td>1498.000000</td>\n",
       "      <td>1047.000000</td>\n",
       "      <td>522.00000</td>\n",
       "    </tr>\n",
       "    <tr>\n",
       "      <th>19</th>\n",
       "      <td>2855.811844</td>\n",
       "      <td>146702.000000</td>\n",
       "      <td>110541.000000</td>\n",
       "      <td>6088.000000</td>\n",
       "      <td>1984.000000</td>\n",
       "      <td>1759.000000</td>\n",
       "      <td>809.000000</td>\n",
       "      <td>560.00000</td>\n",
       "    </tr>\n",
       "    <tr>\n",
       "      <th>20</th>\n",
       "      <td>2432.439188</td>\n",
       "      <td>115224.000000</td>\n",
       "      <td>86442.000000</td>\n",
       "      <td>4635.000000</td>\n",
       "      <td>1522.000000</td>\n",
       "      <td>1321.000000</td>\n",
       "      <td>840.000000</td>\n",
       "      <td>434.00000</td>\n",
       "    </tr>\n",
       "    <tr>\n",
       "      <th>21</th>\n",
       "      <td>2525.004355</td>\n",
       "      <td>118154.000000</td>\n",
       "      <td>90420.000000</td>\n",
       "      <td>5395.000000</td>\n",
       "      <td>2361.000000</td>\n",
       "      <td>1511.000000</td>\n",
       "      <td>1013.000000</td>\n",
       "      <td>555.00000</td>\n",
       "    </tr>\n",
       "    <tr>\n",
       "      <th>22</th>\n",
       "      <td>2589.509762</td>\n",
       "      <td>120140.000000</td>\n",
       "      <td>109423.000000</td>\n",
       "      <td>4551.000000</td>\n",
       "      <td>1798.000000</td>\n",
       "      <td>1110.000000</td>\n",
       "      <td>1075.000000</td>\n",
       "      <td>484.00000</td>\n",
       "    </tr>\n",
       "    <tr>\n",
       "      <th>23</th>\n",
       "      <td>2288.488019</td>\n",
       "      <td>100833.000000</td>\n",
       "      <td>66248.000000</td>\n",
       "      <td>3729.000000</td>\n",
       "      <td>1217.000000</td>\n",
       "      <td>1382.000000</td>\n",
       "      <td>930.000000</td>\n",
       "      <td>364.00000</td>\n",
       "    </tr>\n",
       "    <tr>\n",
       "      <th>24</th>\n",
       "      <td>2647.169853</td>\n",
       "      <td>81442.000000</td>\n",
       "      <td>73468.000000</td>\n",
       "      <td>2836.000000</td>\n",
       "      <td>1121.000000</td>\n",
       "      <td>939.000000</td>\n",
       "      <td>639.000000</td>\n",
       "      <td>285.00000</td>\n",
       "    </tr>\n",
       "    <tr>\n",
       "      <th>25</th>\n",
       "      <td>2259.348889</td>\n",
       "      <td>100704.000000</td>\n",
       "      <td>72107.000000</td>\n",
       "      <td>3624.000000</td>\n",
       "      <td>1361.000000</td>\n",
       "      <td>985.000000</td>\n",
       "      <td>506.000000</td>\n",
       "      <td>399.00000</td>\n",
       "    </tr>\n",
       "    <tr>\n",
       "      <th>26</th>\n",
       "      <td>2654.068498</td>\n",
       "      <td>115029.000000</td>\n",
       "      <td>79498.000000</td>\n",
       "      <td>3978.000000</td>\n",
       "      <td>1980.000000</td>\n",
       "      <td>1329.000000</td>\n",
       "      <td>680.000000</td>\n",
       "      <td>354.00000</td>\n",
       "    </tr>\n",
       "    <tr>\n",
       "      <th>27</th>\n",
       "      <td>2086.509198</td>\n",
       "      <td>126709.000000</td>\n",
       "      <td>83340.000000</td>\n",
       "      <td>4381.000000</td>\n",
       "      <td>1887.000000</td>\n",
       "      <td>1375.000000</td>\n",
       "      <td>674.000000</td>\n",
       "      <td>400.00000</td>\n",
       "    </tr>\n",
       "    <tr>\n",
       "      <th>28</th>\n",
       "      <td>2408.154192</td>\n",
       "      <td>68766.000000</td>\n",
       "      <td>49422.000000</td>\n",
       "      <td>2244.000000</td>\n",
       "      <td>931.000000</td>\n",
       "      <td>500.000000</td>\n",
       "      <td>303.000000</td>\n",
       "      <td>217.00000</td>\n",
       "    </tr>\n",
       "    <tr>\n",
       "      <th>29</th>\n",
       "      <td>2474.257098</td>\n",
       "      <td>100769.000000</td>\n",
       "      <td>83923.000000</td>\n",
       "      <td>3104.000000</td>\n",
       "      <td>1199.000000</td>\n",
       "      <td>813.000000</td>\n",
       "      <td>508.000000</td>\n",
       "      <td>246.00000</td>\n",
       "    </tr>\n",
       "  </tbody>\n",
       "</table>\n",
       "</div>"
      ],
      "text/plain": [
       "    Spend [USD]  # of Impressions          Reach  # of Website Clicks  \\\n",
       "0   2436.124529      90572.000000   75440.000000          4150.000000   \n",
       "1   2621.043006     129612.000000   95667.000000          6387.000000   \n",
       "2   2427.021083     132803.000000  121762.000000          6887.000000   \n",
       "3   2565.414978     120570.000000  104011.000000          6478.000000   \n",
       "4   2648.683326      95822.000000   69059.000000          4532.000000   \n",
       "5   2306.081623     118268.000000   83562.000000          6596.000000   \n",
       "6   2356.996404     144806.000000  105315.000000          8139.000000   \n",
       "7   2670.222971      97719.000000   74746.000000          5508.000000   \n",
       "8   2720.901584     113781.000000   97334.000000          5901.000000   \n",
       "9   2441.534142     125097.000000   90192.000000          7646.000000   \n",
       "10  2757.649696     134810.000000  106025.000000          6689.000000   \n",
       "11  2648.565944     114608.827586   87628.482759          5150.896552   \n",
       "12  3105.836356      96185.000000   71186.000000          4455.000000   \n",
       "13  2059.347912     111824.000000   90412.000000          4247.000000   \n",
       "14  2549.081035     120735.000000   80444.000000          5919.000000   \n",
       "15  2147.148579     119465.000000  106623.000000          4994.000000   \n",
       "16  1723.719827     136320.000000   88532.000000          6404.000000   \n",
       "17  2737.803732     119816.000000   83154.000000          4904.000000   \n",
       "18  2309.703158     120979.000000   92930.000000          4975.000000   \n",
       "19  2855.811844     146702.000000  110541.000000          6088.000000   \n",
       "20  2432.439188     115224.000000   86442.000000          4635.000000   \n",
       "21  2525.004355     118154.000000   90420.000000          5395.000000   \n",
       "22  2589.509762     120140.000000  109423.000000          4551.000000   \n",
       "23  2288.488019     100833.000000   66248.000000          3729.000000   \n",
       "24  2647.169853      81442.000000   73468.000000          2836.000000   \n",
       "25  2259.348889     100704.000000   72107.000000          3624.000000   \n",
       "26  2654.068498     115029.000000   79498.000000          3978.000000   \n",
       "27  2086.509198     126709.000000   83340.000000          4381.000000   \n",
       "28  2408.154192      68766.000000   49422.000000          2244.000000   \n",
       "29  2474.257098     100769.000000   83923.000000          3104.000000   \n",
       "\n",
       "    # of Searches  # of View Content  # of Add to Cart  # of Purchase  \n",
       "0     1657.000000        1541.000000        566.000000      383.00000  \n",
       "1     2265.000000        1563.000000       1577.000000      644.00000  \n",
       "2     3100.000000        2048.000000       1381.000000      639.00000  \n",
       "3     2579.000000        2083.000000       1650.000000      649.00000  \n",
       "4     1823.000000        1220.000000        940.000000      455.00000  \n",
       "5     2955.000000        1815.000000       1455.000000      734.00000  \n",
       "6     3262.000000        2559.000000       1502.000000      799.00000  \n",
       "7     2282.000000        1840.000000        837.000000      605.00000  \n",
       "8     2109.000000        1955.000000       1959.000000      562.00000  \n",
       "9     2914.000000        2200.000000       1433.000000      717.00000  \n",
       "10    3028.000000        1898.000000       1578.000000      663.00000  \n",
       "11    2016.758621        1546.310345       1061.862069      507.37931  \n",
       "12    1840.000000        1100.000000        715.000000      449.00000  \n",
       "13    1365.000000        1210.000000        778.000000      457.00000  \n",
       "14    1969.000000        2048.000000       1626.000000      596.00000  \n",
       "15    1920.000000        1585.000000       1135.000000      472.00000  \n",
       "16    2214.000000        2051.000000       1071.000000      603.00000  \n",
       "17    1735.000000        1605.000000       1567.000000      467.00000  \n",
       "18    2108.000000        1498.000000       1047.000000      522.00000  \n",
       "19    1984.000000        1759.000000        809.000000      560.00000  \n",
       "20    1522.000000        1321.000000        840.000000      434.00000  \n",
       "21    2361.000000        1511.000000       1013.000000      555.00000  \n",
       "22    1798.000000        1110.000000       1075.000000      484.00000  \n",
       "23    1217.000000        1382.000000        930.000000      364.00000  \n",
       "24    1121.000000         939.000000        639.000000      285.00000  \n",
       "25    1361.000000         985.000000        506.000000      399.00000  \n",
       "26    1980.000000        1329.000000        680.000000      354.00000  \n",
       "27    1887.000000        1375.000000        674.000000      400.00000  \n",
       "28     931.000000         500.000000        303.000000      217.00000  \n",
       "29    1199.000000         813.000000        508.000000      246.00000  "
      ]
     },
     "execution_count": 22,
     "metadata": {},
     "output_type": "execute_result"
    }
   ],
   "source": [
    "control"
   ]
  },
  {
   "cell_type": "code",
   "execution_count": 23,
   "metadata": {},
   "outputs": [
    {
     "data": {
      "image/png": "[encoded data removed]",
      "text/plain": [
       "<Figure size 432x288 with 1 Axes>"
      ]
     },
     "metadata": {
      "needs_background": "light"
     },
     "output_type": "display_data"
    }
   ],
   "source": [
    "import seaborn as sns\n",
    "sns.boxplot(data = control[\"# of Purchase\"]);"
   ]
  },
  {
   "cell_type": "code",
   "execution_count": 24,
   "metadata": {},
   "outputs": [],
   "source": [
    "#there is no outlier in control group"
   ]
  },
  {
   "cell_type": "code",
   "execution_count": 25,
   "metadata": {},
   "outputs": [
    {
     "data": {
      "text/plain": [
       "count     30.000000\n",
       "mean     486.066667\n",
       "std      125.648643\n",
       "min      277.000000\n",
       "10%      362.900000\n",
       "25%      410.000000\n",
       "50%      472.000000\n",
       "75%      549.000000\n",
       "90%      613.200000\n",
       "95%      657.350000\n",
       "99%      848.910000\n",
       "max      913.000000\n",
       "Name: # of Purchase, dtype: float64"
      ]
     },
     "execution_count": 25,
     "metadata": {},
     "output_type": "execute_result"
    }
   ],
   "source": [
    "test[\"# of Purchase\"].describe([0.10,0.25,0.50,0.75,0.90,0.95,0.99])"
   ]
  },
  {
   "cell_type": "code",
   "execution_count": 26,
   "metadata": {},
   "outputs": [
    {
     "data": {
      "image/png": "[encoded data removed]",
      "text/plain": [
       "<Figure size 432x288 with 1 Axes>"
      ]
     },
     "metadata": {
      "needs_background": "light"
     },
     "output_type": "display_data"
    }
   ],
   "source": [
    "import seaborn as sns\n",
    "sns.boxplot(data = test[\"# of Purchase\"]);"
   ]
  },
  {
   "cell_type": "code",
   "execution_count": 27,
   "metadata": {},
   "outputs": [],
   "source": [
    "#as can be seen from the Test group's boxplot, there is one outlier. We can repress this value by assigning the upper bound value to it:"
   ]
  },
  {
   "cell_type": "code",
   "execution_count": 28,
   "metadata": {},
   "outputs": [
    {
     "data": {
      "text/plain": [
       "757.5"
      ]
     },
     "execution_count": 28,
     "metadata": {},
     "output_type": "execute_result"
    }
   ],
   "source": [
    "Q1 = test[\"# of Purchase\"].quantile(0.25)\n",
    "Q3 = test[\"# of Purchase\"].quantile(0.75)\n",
    "IQR = Q3-Q1\n",
    "upper = Q3 + 1.5*IQR\n",
    "upper"
   ]
  },
  {
   "cell_type": "code",
   "execution_count": 29,
   "metadata": {},
   "outputs": [
    {
     "data": {
      "text/html": [
       "<div>\n",
       "<style scoped>\n",
       "    .dataframe tbody tr th:only-of-type {\n",
       "        vertical-align: middle;\n",
       "    }\n",
       "\n",
       "    .dataframe tbody tr th {\n",
       "        vertical-align: top;\n",
       "    }\n",
       "\n",
       "    .dataframe thead th {\n",
       "        text-align: right;\n",
       "    }\n",
       "</style>\n",
       "<table border=\"1\" class=\"dataframe\">\n",
       "  <thead>\n",
       "    <tr style=\"text-align: right;\">\n",
       "      <th></th>\n",
       "      <th>Campaign Name</th>\n",
       "      <th>Date</th>\n",
       "      <th>Spend [USD]</th>\n",
       "      <th># of Impressions</th>\n",
       "      <th>Reach</th>\n",
       "      <th># of Website Clicks</th>\n",
       "      <th># of Searches</th>\n",
       "      <th># of View Content</th>\n",
       "      <th># of Add to Cart</th>\n",
       "      <th># of Purchase</th>\n",
       "    </tr>\n",
       "  </thead>\n",
       "  <tbody>\n",
       "    <tr>\n",
       "      <th>0</th>\n",
       "      <td>Test Campaign</td>\n",
       "      <td>2017.01.01</td>\n",
       "      <td>2335.586267</td>\n",
       "      <td>160244</td>\n",
       "      <td>121551</td>\n",
       "      <td>8223</td>\n",
       "      <td>2989</td>\n",
       "      <td>2949</td>\n",
       "      <td>1371</td>\n",
       "      <td>913</td>\n",
       "    </tr>\n",
       "  </tbody>\n",
       "</table>\n",
       "</div>"
      ],
      "text/plain": [
       "   Campaign Name        Date  Spend [USD]  # of Impressions   Reach  \\\n",
       "0  Test Campaign  2017.01.01  2335.586267            160244  121551   \n",
       "\n",
       "   # of Website Clicks  # of Searches  # of View Content  # of Add to Cart  \\\n",
       "0                 8223           2989               2949              1371   \n",
       "\n",
       "   # of Purchase  \n",
       "0            913  "
      ]
     },
     "execution_count": 29,
     "metadata": {},
     "output_type": "execute_result"
    }
   ],
   "source": [
    "test[test[\"# of Purchase\"] > upper]"
   ]
  },
  {
   "cell_type": "code",
   "execution_count": 30,
   "metadata": {},
   "outputs": [],
   "source": [
    "test.loc[test[\"# of Purchase\"] > upper, \"# of Purchase\"]=upper"
   ]
  },
  {
   "cell_type": "code",
   "execution_count": 31,
   "metadata": {},
   "outputs": [
    {
     "data": {
      "image/png": "[encoded data removed]",
      "text/plain": [
       "<Figure size 432x288 with 1 Axes>"
      ]
     },
     "metadata": {
      "needs_background": "light"
     },
     "output_type": "display_data"
    }
   ],
   "source": [
    "sns.boxplot(data = test[\"# of Purchase\"]);"
   ]
  },
  {
   "cell_type": "code",
   "execution_count": 32,
   "metadata": {},
   "outputs": [],
   "source": [
    "#now we have no outliers in test group as well. "
   ]
  },
  {
   "cell_type": "code",
   "execution_count": 33,
   "metadata": {},
   "outputs": [
    {
     "data": {
      "text/plain": [
       "480.8833333333333"
      ]
     },
     "execution_count": 33,
     "metadata": {},
     "output_type": "execute_result"
    }
   ],
   "source": [
    "test[\"# of Purchase\"].mean()"
   ]
  },
  {
   "cell_type": "code",
   "execution_count": 34,
   "metadata": {},
   "outputs": [
    {
     "data": {
      "text/plain": [
       "2571.4260849137945"
      ]
     },
     "execution_count": 34,
     "metadata": {},
     "output_type": "execute_result"
    }
   ],
   "source": [
    "test[\"Spend [USD]\"].mean()"
   ]
  },
  {
   "cell_type": "code",
   "execution_count": 35,
   "metadata": {},
   "outputs": [
    {
     "data": {
      "text/plain": [
       "2481.7880260658403"
      ]
     },
     "execution_count": 35,
     "metadata": {},
     "output_type": "execute_result"
    }
   ],
   "source": [
    "control[\"Spend [USD]\"].mean()"
   ]
  },
  {
   "cell_type": "code",
   "execution_count": 36,
   "metadata": {},
   "outputs": [
    {
     "data": {
      "text/html": [
       "<div>\n",
       "<style scoped>\n",
       "    .dataframe tbody tr th:only-of-type {\n",
       "        vertical-align: middle;\n",
       "    }\n",
       "\n",
       "    .dataframe tbody tr th {\n",
       "        vertical-align: top;\n",
       "    }\n",
       "\n",
       "    .dataframe thead th {\n",
       "        text-align: right;\n",
       "    }\n",
       "</style>\n",
       "<table border=\"1\" class=\"dataframe\">\n",
       "  <thead>\n",
       "    <tr style=\"text-align: right;\">\n",
       "      <th></th>\n",
       "      <th>Spend [USD]</th>\n",
       "      <th># of Impressions</th>\n",
       "      <th>Reach</th>\n",
       "      <th># of Website Clicks</th>\n",
       "      <th># of Searches</th>\n",
       "      <th># of View Content</th>\n",
       "      <th># of Add to Cart</th>\n",
       "      <th># of Purchase</th>\n",
       "    </tr>\n",
       "  </thead>\n",
       "  <tbody>\n",
       "    <tr>\n",
       "      <th>0</th>\n",
       "      <td>2436.124529</td>\n",
       "      <td>90572.0</td>\n",
       "      <td>75440.0</td>\n",
       "      <td>4150.0</td>\n",
       "      <td>1657.0</td>\n",
       "      <td>1541.0</td>\n",
       "      <td>566.0</td>\n",
       "      <td>383.0</td>\n",
       "    </tr>\n",
       "    <tr>\n",
       "      <th>1</th>\n",
       "      <td>2621.043006</td>\n",
       "      <td>129612.0</td>\n",
       "      <td>95667.0</td>\n",
       "      <td>6387.0</td>\n",
       "      <td>2265.0</td>\n",
       "      <td>1563.0</td>\n",
       "      <td>1577.0</td>\n",
       "      <td>644.0</td>\n",
       "    </tr>\n",
       "    <tr>\n",
       "      <th>2</th>\n",
       "      <td>2427.021083</td>\n",
       "      <td>132803.0</td>\n",
       "      <td>121762.0</td>\n",
       "      <td>6887.0</td>\n",
       "      <td>3100.0</td>\n",
       "      <td>2048.0</td>\n",
       "      <td>1381.0</td>\n",
       "      <td>639.0</td>\n",
       "    </tr>\n",
       "    <tr>\n",
       "      <th>3</th>\n",
       "      <td>2565.414978</td>\n",
       "      <td>120570.0</td>\n",
       "      <td>104011.0</td>\n",
       "      <td>6478.0</td>\n",
       "      <td>2579.0</td>\n",
       "      <td>2083.0</td>\n",
       "      <td>1650.0</td>\n",
       "      <td>649.0</td>\n",
       "    </tr>\n",
       "    <tr>\n",
       "      <th>4</th>\n",
       "      <td>2648.683326</td>\n",
       "      <td>95822.0</td>\n",
       "      <td>69059.0</td>\n",
       "      <td>4532.0</td>\n",
       "      <td>1823.0</td>\n",
       "      <td>1220.0</td>\n",
       "      <td>940.0</td>\n",
       "      <td>455.0</td>\n",
       "    </tr>\n",
       "  </tbody>\n",
       "</table>\n",
       "</div>"
      ],
      "text/plain": [
       "   Spend [USD]  # of Impressions     Reach  # of Website Clicks  \\\n",
       "0  2436.124529           90572.0   75440.0               4150.0   \n",
       "1  2621.043006          129612.0   95667.0               6387.0   \n",
       "2  2427.021083          132803.0  121762.0               6887.0   \n",
       "3  2565.414978          120570.0  104011.0               6478.0   \n",
       "4  2648.683326           95822.0   69059.0               4532.0   \n",
       "\n",
       "   # of Searches  # of View Content  # of Add to Cart  # of Purchase  \n",
       "0         1657.0             1541.0             566.0          383.0  \n",
       "1         2265.0             1563.0            1577.0          644.0  \n",
       "2         3100.0             2048.0            1381.0          639.0  \n",
       "3         2579.0             2083.0            1650.0          649.0  \n",
       "4         1823.0             1220.0             940.0          455.0  "
      ]
     },
     "execution_count": 36,
     "metadata": {},
     "output_type": "execute_result"
    }
   ],
   "source": [
    "control.head()"
   ]
  },
  {
   "cell_type": "code",
   "execution_count": 37,
   "metadata": {},
   "outputs": [
    {
     "data": {
      "text/html": [
       "<div>\n",
       "<style scoped>\n",
       "    .dataframe tbody tr th:only-of-type {\n",
       "        vertical-align: middle;\n",
       "    }\n",
       "\n",
       "    .dataframe tbody tr th {\n",
       "        vertical-align: top;\n",
       "    }\n",
       "\n",
       "    .dataframe thead th {\n",
       "        text-align: right;\n",
       "    }\n",
       "</style>\n",
       "<table border=\"1\" class=\"dataframe\">\n",
       "  <thead>\n",
       "    <tr style=\"text-align: right;\">\n",
       "      <th></th>\n",
       "      <th>Campaign Name</th>\n",
       "      <th>Date</th>\n",
       "      <th>Spend [USD]</th>\n",
       "      <th># of Impressions</th>\n",
       "      <th>Reach</th>\n",
       "      <th># of Website Clicks</th>\n",
       "      <th># of Searches</th>\n",
       "      <th># of View Content</th>\n",
       "      <th># of Add to Cart</th>\n",
       "      <th># of Purchase</th>\n",
       "    </tr>\n",
       "  </thead>\n",
       "  <tbody>\n",
       "    <tr>\n",
       "      <th>0</th>\n",
       "      <td>Test Campaign</td>\n",
       "      <td>2017.01.01</td>\n",
       "      <td>2335.586267</td>\n",
       "      <td>160244</td>\n",
       "      <td>121551</td>\n",
       "      <td>8223</td>\n",
       "      <td>2989</td>\n",
       "      <td>2949</td>\n",
       "      <td>1371</td>\n",
       "      <td>757.5</td>\n",
       "    </tr>\n",
       "    <tr>\n",
       "      <th>1</th>\n",
       "      <td>Test Campaign</td>\n",
       "      <td>2017.01.02</td>\n",
       "      <td>2899.490621</td>\n",
       "      <td>100793</td>\n",
       "      <td>68241</td>\n",
       "      <td>4972</td>\n",
       "      <td>2162</td>\n",
       "      <td>1388</td>\n",
       "      <td>1253</td>\n",
       "      <td>510.0</td>\n",
       "    </tr>\n",
       "    <tr>\n",
       "      <th>2</th>\n",
       "      <td>Test Campaign</td>\n",
       "      <td>2017.01.03</td>\n",
       "      <td>3031.740149</td>\n",
       "      <td>89525</td>\n",
       "      <td>83450</td>\n",
       "      <td>3514</td>\n",
       "      <td>1365</td>\n",
       "      <td>1251</td>\n",
       "      <td>995</td>\n",
       "      <td>391.0</td>\n",
       "    </tr>\n",
       "    <tr>\n",
       "      <th>3</th>\n",
       "      <td>Test Campaign</td>\n",
       "      <td>2017.01.04</td>\n",
       "      <td>2794.847648</td>\n",
       "      <td>110122</td>\n",
       "      <td>89985</td>\n",
       "      <td>4411</td>\n",
       "      <td>1533</td>\n",
       "      <td>1134</td>\n",
       "      <td>951</td>\n",
       "      <td>434.0</td>\n",
       "    </tr>\n",
       "    <tr>\n",
       "      <th>4</th>\n",
       "      <td>Test Campaign</td>\n",
       "      <td>2017.01.05</td>\n",
       "      <td>2201.845423</td>\n",
       "      <td>122204</td>\n",
       "      <td>84000</td>\n",
       "      <td>5165</td>\n",
       "      <td>1582</td>\n",
       "      <td>1007</td>\n",
       "      <td>810</td>\n",
       "      <td>492.0</td>\n",
       "    </tr>\n",
       "  </tbody>\n",
       "</table>\n",
       "</div>"
      ],
      "text/plain": [
       "   Campaign Name        Date  Spend [USD]  # of Impressions   Reach  \\\n",
       "0  Test Campaign  2017.01.01  2335.586267            160244  121551   \n",
       "1  Test Campaign  2017.01.02  2899.490621            100793   68241   \n",
       "2  Test Campaign  2017.01.03  3031.740149             89525   83450   \n",
       "3  Test Campaign  2017.01.04  2794.847648            110122   89985   \n",
       "4  Test Campaign  2017.01.05  2201.845423            122204   84000   \n",
       "\n",
       "   # of Website Clicks  # of Searches  # of View Content  # of Add to Cart  \\\n",
       "0                 8223           2989               2949              1371   \n",
       "1                 4972           2162               1388              1253   \n",
       "2                 3514           1365               1251               995   \n",
       "3                 4411           1533               1134               951   \n",
       "4                 5165           1582               1007               810   \n",
       "\n",
       "   # of Purchase  \n",
       "0          757.5  \n",
       "1          510.0  \n",
       "2          391.0  \n",
       "3          434.0  \n",
       "4          492.0  "
      ]
     },
     "execution_count": 37,
     "metadata": {},
     "output_type": "execute_result"
    }
   ],
   "source": [
    "test.head()"
   ]
  },
  {
   "cell_type": "code",
   "execution_count": 38,
   "metadata": {},
   "outputs": [],
   "source": [
    "#Control Group has 507 purchases in average and test group has 481 purchases in average, meaning Control group has more purchases in average.\n",
    "#However, we need to check if this is a significant difference. For this, we need to make hyphothesis test:"
   ]
  },
  {
   "cell_type": "markdown",
   "metadata": {},
   "source": [
    "Control Group which is group A is the group where the “maximum bidding” campaign is applied and\n",
    "\n",
    "Test Group which is group B is the group where the “average bidding” campaign is applied\n",
    "\n",
    "Group A: Maximum Bidding - Control Group\n",
    "\n",
    "Group B: Average Bidding - Test Group\n"
   ]
  },
  {
   "cell_type": "code",
   "execution_count": 39,
   "metadata": {},
   "outputs": [],
   "source": [
    "#Now we can take #of purchae values as separate dfs of boths groups"
   ]
  },
  {
   "cell_type": "code",
   "execution_count": 40,
   "metadata": {},
   "outputs": [
    {
     "data": {
      "text/plain": [
       "0    383.0\n",
       "1    644.0\n",
       "2    639.0\n",
       "3    649.0\n",
       "4    455.0\n",
       "Name: # of Purchase, dtype: float64"
      ]
     },
     "execution_count": 40,
     "metadata": {},
     "output_type": "execute_result"
    }
   ],
   "source": [
    "C=control[\"# of Purchase\"]\n",
    "C.head()"
   ]
  },
  {
   "cell_type": "code",
   "execution_count": 41,
   "metadata": {},
   "outputs": [],
   "source": [
    "C= C.astype('int64') "
   ]
  },
  {
   "cell_type": "code",
   "execution_count": 42,
   "metadata": {},
   "outputs": [
    {
     "data": {
      "text/plain": [
       "0    757.5\n",
       "1    510.0\n",
       "2    391.0\n",
       "3    434.0\n",
       "4    492.0\n",
       "Name: # of Purchase, dtype: float64"
      ]
     },
     "execution_count": 42,
     "metadata": {},
     "output_type": "execute_result"
    }
   ],
   "source": [
    "T=test[\"# of Purchase\"]\n",
    "T.head()"
   ]
  },
  {
   "cell_type": "code",
   "execution_count": 43,
   "metadata": {},
   "outputs": [
    {
     "data": {
      "text/plain": [
       "480.8833333333333"
      ]
     },
     "execution_count": 43,
     "metadata": {},
     "output_type": "execute_result"
    }
   ],
   "source": [
    "T.mean()"
   ]
  },
  {
   "cell_type": "code",
   "execution_count": 44,
   "metadata": {},
   "outputs": [
    {
     "data": {
      "text/html": [
       "<div>\n",
       "<style scoped>\n",
       "    .dataframe tbody tr th:only-of-type {\n",
       "        vertical-align: middle;\n",
       "    }\n",
       "\n",
       "    .dataframe tbody tr th {\n",
       "        vertical-align: top;\n",
       "    }\n",
       "\n",
       "    .dataframe thead th {\n",
       "        text-align: right;\n",
       "    }\n",
       "</style>\n",
       "<table border=\"1\" class=\"dataframe\">\n",
       "  <thead>\n",
       "    <tr style=\"text-align: right;\">\n",
       "      <th></th>\n",
       "      <th>A</th>\n",
       "      <th>B</th>\n",
       "    </tr>\n",
       "  </thead>\n",
       "  <tbody>\n",
       "    <tr>\n",
       "      <th>0</th>\n",
       "      <td>383</td>\n",
       "      <td>757.5</td>\n",
       "    </tr>\n",
       "    <tr>\n",
       "      <th>1</th>\n",
       "      <td>644</td>\n",
       "      <td>510.0</td>\n",
       "    </tr>\n",
       "    <tr>\n",
       "      <th>2</th>\n",
       "      <td>639</td>\n",
       "      <td>391.0</td>\n",
       "    </tr>\n",
       "    <tr>\n",
       "      <th>3</th>\n",
       "      <td>649</td>\n",
       "      <td>434.0</td>\n",
       "    </tr>\n",
       "    <tr>\n",
       "      <th>4</th>\n",
       "      <td>455</td>\n",
       "      <td>492.0</td>\n",
       "    </tr>\n",
       "  </tbody>\n",
       "</table>\n",
       "</div>"
      ],
      "text/plain": [
       "     A      B\n",
       "0  383  757.5\n",
       "1  644  510.0\n",
       "2  639  391.0\n",
       "3  649  434.0\n",
       "4  455  492.0"
      ]
     },
     "execution_count": 44,
     "metadata": {},
     "output_type": "execute_result"
    }
   ],
   "source": [
    "AB = pd.concat([C, T], axis = 1)\n",
    "AB.columns = [\"A\",\"B\"]\n",
    "\n",
    "AB.head()"
   ]
  },
  {
   "cell_type": "code",
   "execution_count": 45,
   "metadata": {},
   "outputs": [
    {
     "data": {
      "image/png": "[encoded data removed]",
      "text/plain": [
       "<Figure size 432x288 with 1 Axes>"
      ]
     },
     "metadata": {
      "needs_background": "light"
     },
     "output_type": "display_data"
    }
   ],
   "source": [
    "sns.boxplot(data = AB);"
   ]
  },
  {
   "cell_type": "markdown",
   "metadata": {},
   "source": [
    "## Assumption Control\n",
    "\n",
    "As we have independent and paired sample groups, we can use T-testing for Hypothesis test. A t-test a statistic method used to determine if there is a significant difference between the means of two groups based on a sample of data. The common assumptions made when doing a t-test include normality of data distribution and equality of variance in standard deviation.\n",
    "\n",
    "1. Normality of data distribution\n",
    "2. Equality of variances"
   ]
  },
  {
   "cell_type": "markdown",
   "metadata": {},
   "source": [
    "### 1) Controlling 1st Assumption:\n",
    "H0: The data is normally distributed\n",
    "\n",
    "H1: The data is not normally distributed"
   ]
  },
  {
   "cell_type": "code",
   "execution_count": 46,
   "metadata": {},
   "outputs": [],
   "source": [
    "from scipy.stats import shapiro"
   ]
  },
  {
   "cell_type": "code",
   "execution_count": 47,
   "metadata": {},
   "outputs": [
    {
     "data": {
      "text/plain": [
       "(0.9882097244262695, 0.9787935018539429)"
      ]
     },
     "execution_count": 47,
     "metadata": {},
     "output_type": "execute_result"
    }
   ],
   "source": [
    "shapiro(AB.A)"
   ]
  },
  {
   "cell_type": "code",
   "execution_count": 48,
   "metadata": {},
   "outputs": [
    {
     "data": {
      "text/plain": [
       "(0.9781895279884338, 0.7756415009498596)"
      ]
     },
     "execution_count": 48,
     "metadata": {},
     "output_type": "execute_result"
    }
   ],
   "source": [
    "shapiro(AB.B)"
   ]
  },
  {
   "cell_type": "markdown",
   "metadata": {},
   "source": [
    "If p<0.05, reject H0\n",
    "\n",
    "p value of group A is 0.979 which is >0.05 so we fail to reject H0 meaning that group A is normally distributed\n",
    "\n",
    "p value of group B is 0.776 which is >0.05 so we fail to reject H0 meaning that group B data is normally distributed."
   ]
  },
  {
   "cell_type": "markdown",
   "metadata": {},
   "source": [
    "### 2) Controlling 2nd Assumption:\n",
    "H0: The variances are equal(homogenous)\n",
    "\n",
    "H1: The variances are unequal(non-homogenous)"
   ]
  },
  {
   "cell_type": "code",
   "execution_count": 49,
   "metadata": {},
   "outputs": [
    {
     "data": {
      "text/plain": [
       "LeveneResult(statistic=2.6201793633591217, pvalue=0.1109382471960381)"
      ]
     },
     "execution_count": 49,
     "metadata": {},
     "output_type": "execute_result"
    }
   ],
   "source": [
    "import scipy.stats as stats\n",
    "stats.levene(AB.A, AB.B)"
   ]
  },
  {
   "cell_type": "markdown",
   "metadata": {},
   "source": [
    "As the p-value is 0.11 which is >0.05, we do not reject H0 meaning that the variances of both groups are equal"
   ]
  },
  {
   "cell_type": "markdown",
   "metadata": {},
   "source": [
    "# Hyphotesis Testing (A-B Test)"
   ]
  },
  {
   "cell_type": "markdown",
   "metadata": {},
   "source": [
    "As the normality and equal variance of distributions assumptions are satisfied, we will use Independent Two-Sample T-Test for testing the hyphothesis.\n",
    "\n",
    "H0: There is not statistically significant difference between two groups' purchase numbers\n",
    "\n",
    "H1: There is significant difference between two groups' purchase numbers"
   ]
  },
  {
   "cell_type": "code",
   "execution_count": 50,
   "metadata": {},
   "outputs": [
    {
     "data": {
      "text/plain": [
       "Ttest_indResult(statistic=0.8030353231176146, pvalue=0.42523295401589134)"
      ]
     },
     "execution_count": 50,
     "metadata": {},
     "output_type": "execute_result"
    }
   ],
   "source": [
    "stats.ttest_ind(AB[\"A\"], AB[\"B\"])"
   ]
  },
  {
   "cell_type": "markdown",
   "metadata": {},
   "source": [
    "p-value is 0.42 which is >0.05 meaning that we fail to reject H0. This means there is not statistically significant differentce between two groups purchase numbers. Both campaigns can be used. \n",
    "\n",
    "Group A: Maximum Bidding - Control Group - mean= 507\n",
    "\n",
    "Group B: Average Bidding - Test Group  - mean= 486\n",
    "\n",
    "to try to suggest something to the client, we can investigate other important metrics which are:\n",
    "Website Click Through Rate: Number of Website Clicks / Number of Impressions x 100\n",
    "Cost per Action: Spend / Number of Actions\n",
    "Conversion Rate: Number of Actions / Number of Website Clicks x 100\n"
   ]
  },
  {
   "cell_type": "markdown",
   "metadata": {},
   "source": [
    "## OTHER METRICS"
   ]
  },
  {
   "cell_type": "markdown",
   "metadata": {},
   "source": [
    "## PROPORTION TESTS ARE APPLIED FOR THE RATE METRICS"
   ]
  },
  {
   "cell_type": "code",
   "execution_count": 51,
   "metadata": {},
   "outputs": [],
   "source": [
    "from statsmodels.stats.proportion import proportions_ztest\n",
    "from statsmodels.stats.proportion import proportions_chisquare"
   ]
  },
  {
   "cell_type": "markdown",
   "metadata": {},
   "source": [
    "### 1) CTR"
   ]
  },
  {
   "cell_type": "markdown",
   "metadata": {},
   "source": [
    "Null hypothesis: There is no statistically significant difference between control and test group CTR rates., in short p1 = p2\n",
    "\n",
    "Alternative hypothesis: There is a statistically significant difference between control and test group CTR rates.\n"
   ]
  },
  {
   "cell_type": "code",
   "execution_count": 52,
   "metadata": {},
   "outputs": [
    {
     "data": {
      "text/plain": [
       "(5.830354822176507, 5.53096408153157e-09)"
      ]
     },
     "execution_count": 52,
     "metadata": {},
     "output_type": "execute_result"
    }
   ],
   "source": [
    "clicks= np.array([control[\"# of Website Clicks\"].sum(),test[\"# of Website Clicks\"].sum()])\n",
    "impressions= np.array([control[\"# of Impressions\"].sum(),test[\"# of Impressions\"].sum()])\n",
    "\n",
    "proportions_ztest(count=clicks, nobs=impressions,  alternative='two-sided')"
   ]
  },
  {
   "cell_type": "markdown",
   "metadata": {},
   "source": [
    "Sonuç: pval< 0.05--> Reject H0\n",
    "When bidding methods are examined, there is a statistically significant difference between CTR rates. And this difference is in favor of the current \"max bidding\" method."
   ]
  },
  {
   "cell_type": "code",
   "execution_count": 53,
   "metadata": {},
   "outputs": [
    {
     "name": "stdout",
     "output_type": "stream",
     "text": [
      "0.044943279328546644\n",
      "0.04401796846318115\n"
     ]
    }
   ],
   "source": [
    "control_CTR=control[\"# of Website Clicks\"].mean()/control[\"# of Impressions\"].mean()\n",
    "test_CTR= test[\"# of Website Clicks\"].mean() / test[\"# of Impressions\"].mean()\n",
    "print(control_CTR)\n",
    "\n",
    "print(test_CTR)"
   ]
  },
  {
   "cell_type": "markdown",
   "metadata": {},
   "source": [
    "### 2) CPA"
   ]
  },
  {
   "cell_type": "markdown",
   "metadata": {},
   "source": [
    "Lets calcute this rate as follows:\n",
    "    \n",
    "Number of purchase/Spend: meaning that how many purchases gained for 1 USD of expenditure:\n",
    "        "
   ]
  },
  {
   "cell_type": "code",
   "execution_count": 73,
   "metadata": {},
   "outputs": [
    {
     "data": {
      "text/plain": [
       "0    0.157217\n",
       "1    0.245704\n",
       "2    0.263286\n",
       "3    0.252981\n",
       "4    0.171783\n",
       "dtype: float64"
      ]
     },
     "execution_count": 73,
     "metadata": {},
     "output_type": "execute_result"
    }
   ],
   "source": [
    "control_CPA=(control[\"# of Purchase\"]/control[\"Spend [USD]\"])\n",
    "control_CPA.head()"
   ]
  },
  {
   "cell_type": "code",
   "execution_count": 74,
   "metadata": {},
   "outputs": [
    {
     "data": {
      "text/plain": [
       "0.207090438246648"
      ]
     },
     "execution_count": 74,
     "metadata": {},
     "output_type": "execute_result"
    }
   ],
   "source": [
    "control_CPA.mean()"
   ]
  },
  {
   "cell_type": "code",
   "execution_count": 56,
   "metadata": {},
   "outputs": [],
   "source": [
    "# so for example, for 100 USD of spend, there were made 21 purchases in avg in the control group"
   ]
  },
  {
   "cell_type": "code",
   "execution_count": 75,
   "metadata": {},
   "outputs": [
    {
     "data": {
      "text/plain": [
       "0    0.324330\n",
       "1    0.175893\n",
       "2    0.128969\n",
       "3    0.155286\n",
       "4    0.223449\n",
       "dtype: float64"
      ]
     },
     "execution_count": 75,
     "metadata": {},
     "output_type": "execute_result"
    }
   ],
   "source": [
    "test_CPA=(test[\"# of Purchase\"]/test[\"Spend [USD]\"])\n",
    "test_CPA.head()"
   ]
  },
  {
   "cell_type": "code",
   "execution_count": 76,
   "metadata": {},
   "outputs": [
    {
     "data": {
      "text/plain": [
       "0.1911742462159723"
      ]
     },
     "execution_count": 76,
     "metadata": {},
     "output_type": "execute_result"
    }
   ],
   "source": [
    "test_CPA.mean()"
   ]
  },
  {
   "cell_type": "code",
   "execution_count": 78,
   "metadata": {},
   "outputs": [
    {
     "data": {
      "text/plain": [
       "5.2308300924083975"
      ]
     },
     "execution_count": 78,
     "metadata": {},
     "output_type": "execute_result"
    }
   ],
   "source": [
    "1/test_CPA.mean()"
   ]
  },
  {
   "cell_type": "code",
   "execution_count": 59,
   "metadata": {},
   "outputs": [],
   "source": [
    "# so for example, for 100 USD of spend, there were made 19 purchases in avg in the test group"
   ]
  },
  {
   "cell_type": "code",
   "execution_count": 60,
   "metadata": {},
   "outputs": [
    {
     "data": {
      "text/plain": [
       "(8.553896718651608, 1.1900139318307916e-17)"
      ]
     },
     "execution_count": 60,
     "metadata": {},
     "output_type": "execute_result"
    }
   ],
   "source": [
    "spend= np.array([control[\"Spend [USD]\"].sum(), test[\"Spend [USD]\"].sum()])\n",
    "purchase= np.array([control[\"# of Purchase\"].sum(), test[\"# of Purchase\"].sum()])\n",
    "\n",
    "proportions_ztest(count=purchase, nobs=spend)\n"
   ]
  },
  {
   "cell_type": "markdown",
   "metadata": {},
   "source": [
    "result: pval< 0.05--> Reject H0 meaning that there is statistically meaningful difference between two groups CPA values.\n",
    "We can say that the existing method: max bidding is better than the new one.\n"
   ]
  },
  {
   "cell_type": "markdown",
   "metadata": {},
   "source": [
    "### 3) CR"
   ]
  },
  {
   "cell_type": "markdown",
   "metadata": {
    "jupyter": {
     "outputs_hidden": true
    }
   },
   "source": [
    "#### 3a) CR: # of Purchases: / Number of Website Clicks\n"
   ]
  },
  {
   "cell_type": "code",
   "execution_count": 80,
   "metadata": {},
   "outputs": [
    {
     "data": {
      "text/plain": [
       "0.09832048553902865"
      ]
     },
     "execution_count": 80,
     "metadata": {},
     "output_type": "execute_result"
    }
   ],
   "source": [
    "control_CR=(control[\"# of Purchase\"]/control[\"# of Website Clicks\"])\n",
    "control_CR.mean()"
   ]
  },
  {
   "cell_type": "code",
   "execution_count": 82,
   "metadata": {},
   "outputs": [
    {
     "data": {
      "text/plain": [
       "0.0992718554193331"
      ]
     },
     "execution_count": 82,
     "metadata": {},
     "output_type": "execute_result"
    }
   ],
   "source": [
    "test_CR=(test[\"# of Purchase\"]/test[\"# of Website Clicks\"])\n",
    "test_CR.mean()"
   ]
  },
  {
   "cell_type": "markdown",
   "metadata": {},
   "source": [
    "The hypothesis is constructed as follows:\n",
    "\n",
    "H0: There is no statistically significant difference between control and test group CR rates.\n",
    "\n",
    "H1: There is a statistically significant difference between control and test group CR rates.\n"
   ]
  },
  {
   "cell_type": "code",
   "execution_count": 61,
   "metadata": {},
   "outputs": [
    {
     "data": {
      "text/plain": [
       "(-0.3356685344006994, 0.7371208363318503)"
      ]
     },
     "execution_count": 61,
     "metadata": {},
     "output_type": "execute_result"
    }
   ],
   "source": [
    "proportions_ztest(count=purchase, nobs=clicks)"
   ]
  },
  {
   "cell_type": "markdown",
   "metadata": {},
   "source": [
    "Fail to Reject H0 meaning that there is not statistically meaningful difference between two groups CPA values.\n",
    "We cannot conclude anything in here."
   ]
  },
  {
   "cell_type": "markdown",
   "metadata": {},
   "source": [
    "#### 3b) CR: # of Purchases: / Number of Add to Cart"
   ]
  },
  {
   "cell_type": "code",
   "execution_count": 62,
   "metadata": {},
   "outputs": [
    {
     "data": {
      "text/plain": [
       "0    0.676678\n",
       "1    0.408370\n",
       "2    0.462708\n",
       "3    0.393333\n",
       "4    0.484043\n",
       "dtype: float64"
      ]
     },
     "execution_count": 62,
     "metadata": {},
     "output_type": "execute_result"
    }
   ],
   "source": [
    "control_CR2=(control[\"# of Purchase\"]/control[\"# of Add to Cart\"])\n",
    "control_CR2.head()"
   ]
  },
  {
   "cell_type": "code",
   "execution_count": 63,
   "metadata": {},
   "outputs": [
    {
     "data": {
      "text/plain": [
       "0.512479667047576"
      ]
     },
     "execution_count": 63,
     "metadata": {},
     "output_type": "execute_result"
    }
   ],
   "source": [
    "control_CR2.mean()"
   ]
  },
  {
   "cell_type": "code",
   "execution_count": 64,
   "metadata": {},
   "outputs": [
    {
     "data": {
      "text/plain": [
       "0    0.552516\n",
       "1    0.407023\n",
       "2    0.392965\n",
       "3    0.456362\n",
       "4    0.607407\n",
       "dtype: float64"
      ]
     },
     "execution_count": 64,
     "metadata": {},
     "output_type": "execute_result"
    }
   ],
   "source": [
    "test_CR2=(test[\"# of Purchase\"]/test[\"# of Add to Cart\"])\n",
    "test_CR2.head()"
   ]
  },
  {
   "cell_type": "code",
   "execution_count": 65,
   "metadata": {},
   "outputs": [
    {
     "data": {
      "text/plain": [
       "0.588525234225095"
      ]
     },
     "execution_count": 65,
     "metadata": {},
     "output_type": "execute_result"
    }
   ],
   "source": [
    "test_CR2.mean()"
   ]
  },
  {
   "cell_type": "code",
   "execution_count": 66,
   "metadata": {},
   "outputs": [],
   "source": [
    "#this result shows that the occurance number of buying items after they are added into cart is more in test group."
   ]
  },
  {
   "cell_type": "code",
   "execution_count": 67,
   "metadata": {},
   "outputs": [
    {
     "data": {
      "text/plain": [
       "(-15.73048104685388, 9.34980380493796e-56)"
      ]
     },
     "execution_count": 67,
     "metadata": {},
     "output_type": "execute_result"
    }
   ],
   "source": [
    "atc= np.array([control[\"# of Add to Cart\"].sum(),test[\"# of Add to Cart\"].sum()])\n",
    "proportions_ztest(count=purchase, nobs=atc)"
   ]
  },
  {
   "cell_type": "markdown",
   "metadata": {},
   "source": [
    "result: pval< 0.05--> Reject H0 meaning that there is statistically meaningful difference between two groups CPA values.\n",
    "\n",
    "We can say that as the test group has more avg. rate, the new method: average bidding is better than the current method.\n",
    "It is the only result which favoured the new method."
   ]
  },
  {
   "cell_type": "markdown",
   "metadata": {},
   "source": [
    "#### 3c) CR: # of Purchases: / Number of View Content"
   ]
  },
  {
   "cell_type": "code",
   "execution_count": 85,
   "metadata": {},
   "outputs": [
    {
     "data": {
      "text/plain": [
       "0.33391819797840416"
      ]
     },
     "execution_count": 85,
     "metadata": {},
     "output_type": "execute_result"
    }
   ],
   "source": [
    "control_CR3=(control[\"# of Purchase\"]/control[\"# of View Content\"])\n",
    "control_CR3.mean()"
   ]
  },
  {
   "cell_type": "code",
   "execution_count": 86,
   "metadata": {},
   "outputs": [
    {
     "data": {
      "text/plain": [
       "0.34462429185103854"
      ]
     },
     "execution_count": 86,
     "metadata": {},
     "output_type": "execute_result"
    }
   ],
   "source": [
    "test_CR3=(test[\"# of Purchase\"]/test[\"# of View Content\"])\n",
    "test_CR3.mean()"
   ]
  },
  {
   "cell_type": "code",
   "execution_count": 87,
   "metadata": {},
   "outputs": [
    {
     "data": {
      "text/plain": [
       "(-0.5721954416069182, 0.5671895753480987)"
      ]
     },
     "execution_count": 87,
     "metadata": {},
     "output_type": "execute_result"
    }
   ],
   "source": [
    "views= np.array([control[\"# of View Content\"].sum(),test[\"# of View Content\"].sum()])\n",
    "proportions_ztest(count=purchase, nobs=views)"
   ]
  },
  {
   "cell_type": "markdown",
   "metadata": {},
   "source": [
    "Fail to Reject H0 meaning that there is not statistically meaningful difference between two groups.\n",
    "We cannot conclude anything in here."
   ]
  },
  {
   "cell_type": "markdown",
   "metadata": {},
   "source": [
    "If there is a chance on account of time, budget etc, I recommend to client to collect more data before drawing any conclusions. \n",
    "If there is no chance, it is not suggested to be used new bidding type (average bidding). Because average spend value of new method is more that the existing one. No need to spend more while there is no significant difference between two models. while running new type bidding, \n",
    "Also, mean value of purchase of the existing method is more than the new one.\n",
    "\n",
    "As a result, it doesn’t bring more conversions than existing bidding type (max bidding). I recommend to the client to continue with existing bidding type."
   ]
  },
  {
   "cell_type": "code",
   "execution_count": 90,
   "metadata": {},
   "outputs": [
    {
     "data": {
      "text/plain": [
       "2481.7880260658403"
      ]
     },
     "execution_count": 90,
     "metadata": {},
     "output_type": "execute_result"
    }
   ],
   "source": [
    "cs=control[\"Spend [USD]\"].mean()\n",
    "cs"
   ]
  },
  {
   "cell_type": "code",
   "execution_count": 91,
   "metadata": {},
   "outputs": [
    {
     "data": {
      "text/plain": [
       "2571.4260849137945"
      ]
     },
     "execution_count": 91,
     "metadata": {},
     "output_type": "execute_result"
    }
   ],
   "source": [
    "ts=test[\"Spend [USD]\"].mean()\n",
    "ts"
   ]
  },
  {
   "cell_type": "code",
   "execution_count": 104,
   "metadata": {},
   "outputs": [
    {
     "data": {
      "image/png": "[encoded data removed]",
      "text/plain": [
       "<Figure size 432x288 with 1 Axes>"
      ]
     },
     "metadata": {
      "needs_background": "light"
     },
     "output_type": "display_data"
    }
   ],
   "source": [
    "spend=pd.DataFrame({\"Existing (max bidding) Spend\":[cs], \"New (avg bidding) Spend\": [ts]})\n",
    "spend.plot.bar(rot=0).legend(loc=3) ;"
   ]
  },
  {
   "cell_type": "code",
   "execution_count": 97,
   "metadata": {},
   "outputs": [
    {
     "data": {
      "text/plain": [
       "507.3793103448276"
      ]
     },
     "execution_count": 97,
     "metadata": {},
     "output_type": "execute_result"
    }
   ],
   "source": [
    "cp=control[\"# of Purchase\"].mean()\n",
    "cp"
   ]
  },
  {
   "cell_type": "code",
   "execution_count": 100,
   "metadata": {},
   "outputs": [
    {
     "data": {
      "text/plain": [
       "480.8833333333333"
      ]
     },
     "execution_count": 100,
     "metadata": {},
     "output_type": "execute_result"
    }
   ],
   "source": [
    "tp=test[\"# of Purchase\"].mean()\n",
    "tp"
   ]
  },
  {
   "cell_type": "code",
   "execution_count": 105,
   "metadata": {},
   "outputs": [
    {
     "data": {
      "image/png": "[encoded data removed]",
      "text/plain": [
       "<Figure size 432x288 with 1 Axes>"
      ]
     },
     "metadata": {
      "needs_background": "light"
     },
     "output_type": "display_data"
    }
   ],
   "source": [
    "purchase=pd.DataFrame({\"Existing (max bidding) Purchases\":[cp], \"New (avg bidding) Purchases\": [tp]})\n",
    "purchase.plot.bar(rot=0).legend(loc=3) ;"
   ]
  },
  {
   "cell_type": "code",
   "execution_count": 101,
   "metadata": {},
   "outputs": [
    {
     "data": {
      "text/plain": [
       "5150.896551724139"
      ]
     },
     "execution_count": 101,
     "metadata": {},
     "output_type": "execute_result"
    }
   ],
   "source": [
    "cc=control[\"# of Website Clicks\"].mean()\n",
    "cc"
   ]
  },
  {
   "cell_type": "code",
   "execution_count": 102,
   "metadata": {},
   "outputs": [
    {
     "data": {
      "text/plain": [
       "4863.866666666667"
      ]
     },
     "execution_count": 102,
     "metadata": {},
     "output_type": "execute_result"
    }
   ],
   "source": [
    "tc=test[\"# of Website Clicks\"].mean()\n",
    "tc"
   ]
  },
  {
   "cell_type": "code",
   "execution_count": 106,
   "metadata": {},
   "outputs": [
    {
     "data": {
      "image/png": "[encoded data removed]",
      "text/plain": [
       "<Figure size 432x288 with 1 Axes>"
      ]
     },
     "metadata": {
      "needs_background": "light"
     },
     "output_type": "display_data"
    }
   ],
   "source": [
    "clicks=pd.DataFrame({\"Existing (max bidding) Clicks\":[cp], \"New (avg bidding) Clicks\": [tp]})\n",
    "clicks.plot.bar(rot=0).legend(loc=3) ;"
   ]
  },
  {
   "cell_type": "markdown",
   "metadata": {},
   "source": [
    "# REPORT\n",
    "- Control and test group data were analyzed (with info, describe methods).\n",
    "- One row containing NA values ​​was found in the control group.\n",
    "- It was observed that the variables were distributed normally, so NA values ​​were filled with the mean of the respective variable.\n",
    "- In the test group, it was observed in 1 outlier box plot. (Outlier was suppressed with the suppression method.)\n",
    "- AB test was performed by comparing the control group using the max bidding method and the test group using avg bidding method to the new method.\n",
    "- Independent 2 sample t test was deemed appropriate for this comparison. Variations were provided.\n",
    "- Pvalue was found 0.425 at the end of the test. The hypothesis that the means of purchasing products from the control group and the test group are equal to each other could not be rejected because it is greater than 0.05.\n",
    "\n",
    "# Other Metrics\n",
    "\n",
    "### CTR:\n",
    "pval <0.05 -> Reject H0.\n",
    "- When the bidding methods are examined, the effect of these methods on user behavior (clicks) is different. And this difference is in favor of the current \"max bidding\" method.\n",
    "\n",
    "\n",
    "### Conversion Rate:\n",
    "- pval> 0.05 -> Fail to reject H0\n",
    "- When the bidding methods are examined, there is no difference between the effects of these methods on user behavior (purchasing).\n",
    "\n",
    "### CPA\n",
    "- pval <0.05 -> Reject H0\n",
    "When the bidding methods are examined, the effect of these methods on the cost is different. This difference is in favor of the current \"max bidding\" method.\n",
    "\n",
    "# Recommendation to Client\n",
    "\n",
    "- When the new system is compared with the old system, it is seen that the number of purchases decreases, the cost increases and the clicks decrease.\n",
    "- When the Conversion Rate is based on the purchasing status among those who add it to the basket and those who look at the product details, a comparison is made in favor of the test group.\n",
    "\n",
    "For this reason, it is recommended to collect more data and retest. If there is no such opportunity or time, it is recommended to continue with the existing bidding system."
   ]
  },
  {
   "cell_type": "code",
   "execution_count": null,
   "metadata": {},
   "outputs": [],
   "source": []
  }
 ],
 "metadata": {
  "kernelspec": {
   "display_name": "Python 3",
   "language": "python",
   "name": "python3"
  },
  "language_info": {
   "codemirror_mode": {
    "name": "ipython",
    "version": 3
   },
   "file_extension": ".py",
   "mimetype": "text/x-python",
   "name": "python",
   "nbconvert_exporter": "python",
   "pygments_lexer": "ipython3",
   "version": "3.7.6"
  }
 },
 "nbformat": 4,
 "nbformat_minor": 4
}
